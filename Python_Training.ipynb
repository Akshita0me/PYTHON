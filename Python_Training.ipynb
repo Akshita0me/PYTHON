{
  "cells": [
    {
      "cell_type": "markdown",
      "metadata": {
        "id": "view-in-github",
        "colab_type": "text"
      },
      "source": [
        "<a href=\"https://colab.research.google.com/github/Akshita0me/PYTHON/blob/main/Python_Training.ipynb\" target=\"_parent\"><img src=\"https://colab.research.google.com/assets/colab-badge.svg\" alt=\"Open In Colab\"/></a>"
      ]
    },
    {
      "cell_type": "code",
      "execution_count": null,
      "metadata": {
        "colab": {
          "base_uri": "https://localhost:8080/"
        },
        "id": "M6YY2e5NF3JE",
        "outputId": "485cb302-7862-4f12-92b9-07a07eb54893"
      },
      "outputs": [
        {
          "output_type": "stream",
          "name": "stdout",
          "text": [
            "hello world\n",
            " students\n",
            "please enter your nameakshita\n",
            "my name is akshita\n"
          ]
        }
      ],
      "source": [
        "32\n",
        "print(\"hello world\\n students\")\n",
        "a=input(\"please enter your name\")\n",
        "print(\"my name is\",a)\n",
        "\n",
        "#this is my first programm\n"
      ]
    },
    {
      "cell_type": "code",
      "execution_count": null,
      "metadata": {
        "colab": {
          "base_uri": "https://localhost:8080/"
        },
        "id": "_mvWsb6zKWTV",
        "outputId": "bc5289eb-9cc1-4675-9961-74c070b33364"
      },
      "outputs": [
        {
          "output_type": "stream",
          "name": "stdout",
          "text": [
            "5\n"
          ]
        },
        {
          "output_type": "execute_result",
          "data": {
            "text/plain": [
              "int"
            ]
          },
          "metadata": {},
          "execution_count": 2
        }
      ],
      "source": [
        "x=5\n",
        "y=\"hello\"\n",
        "print(x)\n",
        "type(x)\n",
        "#type btye ga varible"
      ]
    },
    {
      "cell_type": "code",
      "execution_count": null,
      "metadata": {
        "colab": {
          "base_uri": "https://localhost:8080/"
        },
        "id": "BNdjwksQKumU",
        "outputId": "4f4ea62e-8728-4a92-f033-7cb0ac781c61"
      },
      "outputs": [
        {
          "output_type": "execute_result",
          "data": {
            "text/plain": [
              "128"
            ]
          },
          "metadata": {},
          "execution_count": 3
        }
      ],
      "source": [
        "x=\"123\"\n",
        "y=5\n",
        "int(x)+y  #dono add nahi ho sakte kyuki alag datatype hai isliye int lgakr add kiya x string hai aur y integer\n"
      ]
    },
    {
      "cell_type": "code",
      "execution_count": null,
      "metadata": {
        "colab": {
          "base_uri": "https://localhost:8080/"
        },
        "id": "hI8vtl2xNfJ0",
        "outputId": "874acfc2-4a82-4124-f139-dc35d3cdac7f"
      },
      "outputs": [
        {
          "output_type": "stream",
          "name": "stdout",
          "text": [
            "10757800\n"
          ]
        }
      ],
      "source": [
        "x=3\n",
        "y=x\n",
        "print(id(x))  #isse id pta chlti h"
      ]
    },
    {
      "cell_type": "code",
      "execution_count": null,
      "metadata": {
        "colab": {
          "base_uri": "https://localhost:8080/"
        },
        "id": "g4c6ZSdVPPT-",
        "outputId": "5452e04d-1ed5-406e-81ab-6f51ce6e5ea6"
      },
      "outputs": [
        {
          "output_type": "stream",
          "name": "stdout",
          "text": [
            "10757800\n"
          ]
        }
      ],
      "source": [
        "x=3\n",
        "y=x\n",
        "print(id(y))"
      ]
    },
    {
      "cell_type": "code",
      "execution_count": null,
      "metadata": {
        "colab": {
          "base_uri": "https://localhost:8080/"
        },
        "id": "vJd2f72HPjF-",
        "outputId": "128ce92f-2a4e-4780-e8fa-302ba45af136"
      },
      "outputs": [
        {
          "output_type": "stream",
          "name": "stdout",
          "text": [
            "['False', 'None', 'True', 'and', 'as', 'assert', 'async', 'await', 'break', 'class', 'continue', 'def', 'del', 'elif', 'else', 'except', 'finally', 'for', 'from', 'global', 'if', 'import', 'in', 'is', 'lambda', 'nonlocal', 'not', 'or', 'pass', 'raise', 'return', 'try', 'while', 'with', 'yield']\n"
          ]
        }
      ],
      "source": [
        "import keyword\n",
        "print(keyword.kwlist)"
      ]
    },
    {
      "cell_type": "code",
      "execution_count": null,
      "metadata": {
        "colab": {
          "base_uri": "https://localhost:8080/"
        },
        "id": "3PC1FYMBR2Qx",
        "outputId": "c7f0790e-7e0b-40f7-fa79-6f8e95b9bb2e"
      },
      "outputs": [
        {
          "output_type": "execute_result",
          "data": {
            "text/plain": [
              "(127+3j)"
            ]
          },
          "metadata": {},
          "execution_count": 7
        }
      ],
      "source": [
        "x=\"123\"\n",
        "y=4+3j\n",
        "int(x)+complex(y)"
      ]
    },
    {
      "cell_type": "code",
      "execution_count": null,
      "metadata": {
        "colab": {
          "base_uri": "https://localhost:8080/"
        },
        "id": "wHSIu-4MVEZA",
        "outputId": "fc4e4cba-b2d0-4cef-a9f7-52f1a7824405"
      },
      "outputs": [
        {
          "output_type": "stream",
          "name": "stdout",
          "text": [
            "0b101\n"
          ]
        },
        {
          "output_type": "execute_result",
          "data": {
            "text/plain": [
              "int"
            ]
          },
          "metadata": {},
          "execution_count": 8
        }
      ],
      "source": [
        "x=0b101\n",
        "print(bin(x))\n",
        "type (x)\n"
      ]
    },
    {
      "cell_type": "code",
      "execution_count": null,
      "metadata": {
        "colab": {
          "base_uri": "https://localhost:8080/"
        },
        "id": "vBqSoT8vZN1l",
        "outputId": "a9f3b2e2-4531-497a-efa4-2e1deb1e28e3"
      },
      "outputs": [
        {
          "output_type": "execute_result",
          "data": {
            "text/plain": [
              "82631996098781074868989413504096379978550585370535152410581099409300723904538918228148651304964410605948901503127919788032000000000000000000000000000000000000000000000000000000000000000000000000000000000000000000000000000000000000000000000000000000000000000000000000000000000000000000000000000000000000000000000000000000000000000000000000000000000000000000000000000000000000000000000000000000000000000000000000000000000000000000000000000000000000000000000000000000000000000000000000000000000000000000000000000000000000000000000"
            ]
          },
          "metadata": {},
          "execution_count": 9
        }
      ],
      "source": [
        "20**405"
      ]
    },
    {
      "cell_type": "code",
      "execution_count": null,
      "metadata": {
        "colab": {
          "base_uri": "https://localhost:8080/",
          "height": 127
        },
        "id": "B5SaR1HHaiCO",
        "outputId": "710a2e63-f801-4ab4-887f-a798c5045577"
      },
      "outputs": [
        {
          "output_type": "execute_result",
          "data": {
            "text/plain": [
              "'abababababababababababababababababababababababababababababababababababababababababababababababababababababababababababababababababababababababababababababababababababababababababababababababababababababababababababababababababababababababababababababababababababababababababababababababababababababababababababababababababababababababababababababababababababababababababababababababababababababababababababababababababababababababababababababababababababababababababababababababababababababababababababababababababababababababababababababababababababababababababababababababababababababababababababababababababababababababababababababababababababababababababababababababababababababababababababababababababababababababababababababababababababababababababababababababababababababababababababababababababababababababababababababababababababababababababababababababababababababababababababababababababababababababababababababababababababababababababababababababababababababababababababababababababababababababababababababababababababababababababababababababababababababababababababababababababababababababababababababababababababababababababababababababababababababababababababababababababababababababababababababababababababababababababababababababababababababababababababababababababababababababababababababababababababababababababababababababababababababababababababababababababababababababababababababababababababababababababababababababababababababababababababababababababababababababababababababababababababababababababababababababababababababababababababababababababababababababababababababababababababababababababababababababababababababababababababababababababababababababababababababababababababababababababababababababababababababababababababababababababababababababababababababababababababababababababababababababababababababababababababababababababababababababababababababababababababababababababababababababababababababababababababababababababababababababababababababababababababababababababababababababababababababababababababababababababababababababababababababababababababababababababababababababababababababababababababababababababababababababababababababababababababababababababababababababababababababababababababababababababababababababababababababababababababababababababababababababababababababababababababababababababababababababababababababababababababababababababababababababababababababababababababababababababababababababababababababababababababababababababababababababababababababababababababababababababababababababababababababababababababababababababababababababababababababababababababababababababababababababababababababababababababababababababababababababababababababababababababababababababababababababababababababababababababababababababababababababababababababababababababababababababababababababababababababababababababababababababababababababababababababababababababababababababababababababababababababababababababababababababababababababababababababababababababababababababababababababababababababababababababababababababababababababababababababababababababababababababababababababababababababababababababababababababababababababababababababababababababababababababababababababababababababababababababababababababababababababababababababababababababababababababababababababababababababababababababababababababababababababababababababababababababababababababababababababababababababababababababababababababababababababababababababababababababababababababababababababababababababababababababababababababababababababababababababababababababababababababababababababababababababababababababababababababababababababababababababababababababababababababababababababababababababababababababababababababababababababababababababababababababababababababababababababababababababababababababababababababababababababababababababababababababababababababababababababababababababababababababababababababababababababababababababababababababababababababababababababababababababababababababababababababababababababababababababababababababababababababababababababababababababababababababababababababababababababababababababababababababababababababababababababababababababababababababababababababababababababababababababababababababababababababababababababababababababababababababababababababababababababababababababababababababababababababababababababababababababababababababababababababababababababababababababababababababababababababababababababababababababababababababababababababababababababababababababababababababababababababababababababababababababababababababababababababababababababababababababababababababababababababababababababababababababababababababababababababababababababababababababababababababababababababababababababababababababababababababababababababababababababababababababababababababababababababababababababababababababababababababababababababababababababababababababababababababababababababababababababababababababababababababababababababababababababababababababababababababababababababababababababababababababababababababababababababababababababababababababababababababababababababababababababababababababababababababababababababababababababababababababababababababababababababababababababababababababababababababababababababababababababababababababababababababababababababababababababababababababababababababababababababababababababababababababababababababababababababababababababababababababababababababababababababababababababababababababababababababababababababababababababababababababababababababababababababababababababababababababababababababababababababababababababababababababababababababababababababababababababababababababababababababababababababababababababababababababababababababababababababababababababababababababababababababababababababababababababababababababababababababababababababababababababababababababababababababababababababababababababababababababababababababababababababababababababababababababababababababababababababababababababababababababababababababababababababababababababababababababababababababababababababababababababababababababababababababababababababababababababababababababababababababababababababababababababababababababababababababababababababababababababababababababababababababababababababababababababababababababababababababababababababababababababababababababababababababababababababababababababababababababababababababababababababababababababababababababababababababababababababababababababababababababababababababababababababababababababababababababababababababababababababababababababababababababababababababababababababababababababababababababababababababababababababababababababababababababababababababababababababababababababababababababababababababababababababababababababababababababababababababababababababababababababababababababababababababababababababababababababababababababababababababababababababababababababababababababababababababababababababababababababababababababababababababababababababababababababababababababababababababababababababababababababababababababababababababababababababababababababababababababababababababababababababababababababababababababababababababababababababababababababababababababababababababababababababababababababababababababababababababababababababababababababababababababababababababababababababababababababababababababababababababababababababababababababababababababababababababababababababababababababababababababababababababababababababababababababababababababababababababababababababababababababababababababababababababababababababababababababababababababababababababababababababababababababababababababababababababababababababababababababababababababababababababababababababababababababababababababababababababababababababababababababababababababababababababababababababababababababababababababababababababababababababababababababababababababababababababababababababababababababababababababababababababababababababababababababababababababababababababababababababababababababababababababababababababababababababababababababababababababababababababababababababababababababababababababababababababababababababababababababababababababababababababababababababababababababababababababababababababababababababababababababababababababababababababababababababababababababababababababababababababababababababababababababababababababababababababababababababababababababababababababababababababababababababababababababababababababababababababababababababababababababababababababababababababababababababababababababababababababababababababababababababababababababababababababababababababababababababababababababababababababababababababababababababababababababababababababababababababababababababababababababababababababababababababababababababababababababababababababababababababababababababababababababababababababababababababababababababababababababababababababababababababababababababababababababababababababababababababababababababababababababababababababababababababababababababababababababababababababababababababababababababababababababababababababababababababababababababababababababababababababababababababababababababababababababababababababababababababababababababababababababababababababababababababababababababababababababababababababababababababababababababababababababababababababababababababababababababababababababababababababababababababababababababababababababababababababababababababababababababababababababababababababababababababababababababababababababababababababababababababababababababababababababababababababababababababababababababababababababababababababababababababababababababababababababababababababababababababababababababababababababababababababababababababababababababababababababababababababababababababababababababababababababababababababababababababababababababababababababababababababababababababababababababababababababababababababababababababababababababababababababababababababababababababababababababababababababababababababababab'"
            ],
            "application/vnd.google.colaboratory.intrinsic+json": {
              "type": "string"
            }
          },
          "metadata": {},
          "execution_count": 10
        }
      ],
      "source": [
        "\"ab\"*5000"
      ]
    },
    {
      "cell_type": "code",
      "execution_count": null,
      "metadata": {
        "colab": {
          "base_uri": "https://localhost:8080/"
        },
        "id": "KdulNrjNbdS4",
        "outputId": "3ab3dccb-af30-471c-bd61-4f274614f1c8"
      },
      "outputs": [
        {
          "output_type": "execute_result",
          "data": {
            "text/plain": [
              "True"
            ]
          },
          "metadata": {},
          "execution_count": 11
        }
      ],
      "source": [
        "3 and 4>2"
      ]
    },
    {
      "cell_type": "code",
      "execution_count": null,
      "metadata": {
        "colab": {
          "base_uri": "https://localhost:8080/"
        },
        "id": "yqwx4Dk8cLGY",
        "outputId": "5b4cb7ec-50a4-41c1-c825-6ffbb854343a"
      },
      "outputs": [
        {
          "output_type": "stream",
          "name": "stdout",
          "text": [
            "addition 15\n"
          ]
        },
        {
          "output_type": "execute_result",
          "data": {
            "text/plain": [
              "<function print(*args, sep=' ', end='\\n', file=None, flush=False)>"
            ]
          },
          "metadata": {},
          "execution_count": 12
        }
      ],
      "source": [
        "a=6\n",
        "b=9\n",
        "print(\"addition\",a+b)\n",
        "print"
      ]
    },
    {
      "cell_type": "code",
      "execution_count": null,
      "metadata": {
        "colab": {
          "base_uri": "https://localhost:8080/"
        },
        "id": "kdoZfo4rNyuC",
        "outputId": "17766428-9ea3-4a2b-82ff-96b964868b9d"
      },
      "outputs": [
        {
          "output_type": "execute_result",
          "data": {
            "text/plain": [
              "4"
            ]
          },
          "metadata": {},
          "execution_count": 13
        }
      ],
      "source": [
        "  5&6"
      ]
    },
    {
      "cell_type": "code",
      "execution_count": null,
      "metadata": {
        "colab": {
          "base_uri": "https://localhost:8080/"
        },
        "id": "UA7vbKiDTlup",
        "outputId": "d6074a28-c21e-41ad-85e1-118b14a0cfcb"
      },
      "outputs": [
        {
          "output_type": "execute_result",
          "data": {
            "text/plain": [
              "3"
            ]
          },
          "metadata": {},
          "execution_count": 14
        }
      ],
      "source": [
        "5^6"
      ]
    },
    {
      "cell_type": "code",
      "execution_count": null,
      "metadata": {
        "colab": {
          "base_uri": "https://localhost:8080/"
        },
        "id": "H8UNcIbaVMck",
        "outputId": "997465d3-511b-435c-f63c-9ae3aaa18bf9"
      },
      "outputs": [
        {
          "output_type": "execute_result",
          "data": {
            "text/plain": [
              "35"
            ]
          },
          "metadata": {},
          "execution_count": 15
        }
      ],
      "source": [
        "x=5\n",
        "x*=3+4\n",
        "x"
      ]
    },
    {
      "cell_type": "code",
      "execution_count": null,
      "metadata": {
        "colab": {
          "base_uri": "https://localhost:8080/"
        },
        "id": "yFbnmVxcVdW4",
        "outputId": "fe6997df-4daa-4b50-911c-7cb541d46464"
      },
      "outputs": [
        {
          "output_type": "execute_result",
          "data": {
            "text/plain": [
              "0.4117647058823529"
            ]
          },
          "metadata": {},
          "execution_count": 16
        }
      ],
      "source": [
        "x=7\n",
        "x/=8+9\n",
        "x"
      ]
    },
    {
      "cell_type": "markdown",
      "metadata": {
        "id": "7Wj-KvwEWH9i"
      },
      "source": [
        "assignment operater use karte h jab x ki value jab loop ma aa ri hoti h\n",
        "+=,-=,*=,/=\n"
      ]
    },
    {
      "cell_type": "code",
      "execution_count": null,
      "metadata": {
        "colab": {
          "base_uri": "https://localhost:8080/"
        },
        "id": "JQ_HXXKjbfxB",
        "outputId": "3f62170e-a455-4d28-eda5-6394e00ee8d7"
      },
      "outputs": [
        {
          "output_type": "stream",
          "name": "stdout",
          "text": [
            "Enter the base of the triangle: 4\n",
            "Enter the height of the triangle: 3\n",
            "The area of the triangle is: 6.0\n"
          ]
        }
      ],
      "source": [
        "#AREA OF TRIANGLE\n",
        "base = float(input(\"Enter the base of the triangle: \"))\n",
        "height = float(input(\"Enter the height of the triangle: \"))\n",
        "\n",
        "#calculate the area of traingle using formula\n",
        "\n",
        "area = 0.5 * base * height\n",
        "print(\"The area of the triangle is:\", area)"
      ]
    },
    {
      "cell_type": "code",
      "execution_count": null,
      "metadata": {
        "colab": {
          "base_uri": "https://localhost:8080/"
        },
        "id": "Kogr0iSlcCLz",
        "outputId": "24f2706e-778c-40cf-9110-483a54586211"
      },
      "outputs": [
        {
          "output_type": "stream",
          "name": "stdout",
          "text": [
            "Enter the value of a: 23\n",
            "Enter the value of b: 43\n",
            "Enter the value of c: 45\n",
            "After swapping:\n",
            "a = 45\n",
            "b = 23\n",
            "c = 43\n"
          ]
        }
      ],
      "source": [
        "#swaping of three variable\n",
        "a = input(\"Enter the value of a: \")\n",
        "b = input(\"Enter the value of b: \")\n",
        "c = input(\"Enter the value of c: \")\n",
        "# swapping logic\n",
        "a,b,c= c,a,b\n",
        "print(\"After swapping:\")\n",
        "print(\"a =\", a)\n",
        "print(\"b =\", b)\n",
        "print(\"c =\", c)\n",
        "\n"
      ]
    },
    {
      "cell_type": "code",
      "execution_count": null,
      "metadata": {
        "colab": {
          "base_uri": "https://localhost:8080/"
        },
        "outputId": "bbe29012-4f29-405d-9fee-77b5f07a213a",
        "id": "G_wxdhQIty9R"
      },
      "outputs": [
        {
          "output_type": "stream",
          "name": "stdout",
          "text": [
            "Welcome to juice shop!\n",
            "Menu:\n",
            "1. Orange - 30 rs\n",
            "2. Banana - 50 rs\n",
            "3. apple - 80 rs\n",
            "Enter your choice (1/2/3): 2\n",
            "enter quantity (number of glasses): 1\n",
            "is today a weekend? (yes/no)yes\n",
            "your total bill is : 45.0\n"
          ]
        }
      ],
      "source": [
        "juice1 =\"Orange\"\n",
        "juice1_price = 30\n",
        "\n",
        "juice2 =\"Banana\"\n",
        "juice2_price = 50\n",
        "\n",
        "juice3 = \"apple\"\n",
        "juice3_price = 80\n",
        "\n",
        "#take input from the customer\n",
        "\n",
        "print(\"Welcome to juice shop!\")\n",
        "\n",
        "print(\"Menu:\")\n",
        "\n",
        "print(\"1.\", juice1,\"-\", juice1_price, \"rs\")\n",
        "\n",
        "print(\"2.\", juice2,\"-\", juice2_price, \"rs\")\n",
        "\n",
        "print(\"3.\", juice3,\"-\", juice3_price, \"rs\")\n",
        "\n",
        "choice= int(input(\"Enter your choice (1/2/3): \"))\n",
        "\n",
        "quantity= int(input(\"enter quantity (number of glasses): \"))\n",
        "\n",
        "is_juice1 = (choice == 1)\n",
        "\n",
        "is_juice2 = (choice == 2)\n",
        "\n",
        "is_juice3 = (choice == 3)\n",
        "\n",
        "price = (juice1_price*is_juice1)+(juice2_price*is_juice2)+(juice3_price*is_juice3)\n",
        "total = price*quantity\n",
        "\n",
        "weekend = input(\"is today a weekend? (yes/no)\")\n",
        "is_weekend = (weekend==\"yes\")\n",
        "\n",
        "discount = (total*0.1)*is_weekend\n",
        "final_total = total - discount\n",
        "\n",
        "print(\"your total bill is :\", final_total)"
      ]
    },
    {
      "cell_type": "code",
      "source": [
        "#BILLING SYSTEM OF JUICE\n",
        "\n",
        "juice_name = input(\"enter the juice name:\")\n",
        "price_per_glass= float(input(\"enter price per glass:\"))\n",
        "quantity=int(input(\"enter quantity (number of glasses):\"))\n",
        "day =input(\"enter the day of week:\").lower()\n",
        "\n",
        "#calculate total price\n",
        "total_price= price_per_glass*quantity\n",
        "\n",
        "#by using boolean logic(if weekend=true otherwise=false)\n",
        "is_weekend = (day==\"saturday\")or (day==\"sunday\")\n",
        "\n",
        "#calculate discount\n",
        "discount=total_price*0.1*is_weekend\n",
        "final_price=total_price-discount\n",
        "\n",
        "#final bill\n",
        "print(\"\\n--juice bill--\")\n",
        "print(\"juice name:\",juice_name)\n",
        "print(\"quantity:\",quantity)\n",
        "print(\"total price:\",total_price)\n",
        "print(\"discount:\",discount)\n",
        "print(\"final price:\",final_price)"
      ],
      "metadata": {
        "colab": {
          "base_uri": "https://localhost:8080/"
        },
        "id": "NE6rCGJYu1XH",
        "outputId": "3534839c-8384-4f7d-9295-55debaa6e344"
      },
      "execution_count": null,
      "outputs": [
        {
          "output_type": "stream",
          "name": "stdout",
          "text": [
            "enter the juice name:orange\n",
            "enter price per glass:100\n",
            "enter quantity (number of glasses):2\n",
            "enter the day of week:sundAY\n",
            "\n",
            "--juice bill--\n",
            "juice name: orange\n",
            "quantity: 2\n",
            "total price: 200.0\n",
            "discount: 20.0\n",
            "final price: 180.0\n"
          ]
        }
      ]
    },
    {
      "cell_type": "code",
      "execution_count": null,
      "metadata": {
        "colab": {
          "base_uri": "https://localhost:8080/"
        },
        "id": "5s_ulIeV8fx2",
        "outputId": "7176d6a9-30ab-40fe-d86c-52d8bb2edcc8"
      },
      "outputs": [
        {
          "output_type": "stream",
          "name": "stdout",
          "text": [
            "Enter first number: 3\n",
            "Enter second number: 9\n",
            "Enter operation (+, -, *, /): +\n",
            "Result: 12.0\n"
          ]
        }
      ],
      "source": [
        "# Input from user\n",
        "num1 = float(input(\"Enter first number: \"))\n",
        "num2 = float(input(\"Enter second number: \"))\n",
        "operator = input(\"Enter operation (+, -, *, /): \")\n",
        "\n",
        "# Dictionary to perform operations\n",
        "result = {\n",
        "    '+': num1 + num2,\n",
        "    '-': num1 - num2,\n",
        "    '*': num1 * num2,\n",
        "    '/': num1 / num2 if num2 != 0 else \"Cannot divide by zero\"\n",
        "}.get(operator, \"Invalid operator\")\n",
        "\n",
        "# Output the result\n",
        "print(\"Result:\", result)"
      ]
    },
    {
      "cell_type": "code",
      "execution_count": null,
      "metadata": {
        "colab": {
          "base_uri": "https://localhost:8080/"
        },
        "id": "COLGB3_jXGJH",
        "outputId": "a6687ba4-f8d4-45fc-89b7-66a4ccc7bc72"
      },
      "outputs": [
        {
          "output_type": "execute_result",
          "data": {
            "text/plain": [
              "120"
            ]
          },
          "metadata": {},
          "execution_count": 23
        }
      ],
      "source": [
        "import math\n",
        "math.factorial(5)"
      ]
    },
    {
      "cell_type": "code",
      "execution_count": null,
      "metadata": {
        "colab": {
          "base_uri": "https://localhost:8080/"
        },
        "id": "S3dYhnnGZ6jP",
        "outputId": "5d0d80d3-9375-438f-a318-b28547db29a0"
      },
      "outputs": [
        {
          "output_type": "stream",
          "name": "stdout",
          "text": [
            "Help on built-in module math:\n",
            "\n",
            "NAME\n",
            "    math\n",
            "\n",
            "DESCRIPTION\n",
            "    This module provides access to the mathematical functions\n",
            "    defined by the C standard.\n",
            "\n",
            "FUNCTIONS\n",
            "    acos(x, /)\n",
            "        Return the arc cosine (measured in radians) of x.\n",
            "        \n",
            "        The result is between 0 and pi.\n",
            "    \n",
            "    acosh(x, /)\n",
            "        Return the inverse hyperbolic cosine of x.\n",
            "    \n",
            "    asin(x, /)\n",
            "        Return the arc sine (measured in radians) of x.\n",
            "        \n",
            "        The result is between -pi/2 and pi/2.\n",
            "    \n",
            "    asinh(x, /)\n",
            "        Return the inverse hyperbolic sine of x.\n",
            "    \n",
            "    atan(x, /)\n",
            "        Return the arc tangent (measured in radians) of x.\n",
            "        \n",
            "        The result is between -pi/2 and pi/2.\n",
            "    \n",
            "    atan2(y, x, /)\n",
            "        Return the arc tangent (measured in radians) of y/x.\n",
            "        \n",
            "        Unlike atan(y/x), the signs of both x and y are considered.\n",
            "    \n",
            "    atanh(x, /)\n",
            "        Return the inverse hyperbolic tangent of x.\n",
            "    \n",
            "    cbrt(x, /)\n",
            "        Return the cube root of x.\n",
            "    \n",
            "    ceil(x, /)\n",
            "        Return the ceiling of x as an Integral.\n",
            "        \n",
            "        This is the smallest integer >= x.\n",
            "    \n",
            "    comb(n, k, /)\n",
            "        Number of ways to choose k items from n items without repetition and without order.\n",
            "        \n",
            "        Evaluates to n! / (k! * (n - k)!) when k <= n and evaluates\n",
            "        to zero when k > n.\n",
            "        \n",
            "        Also called the binomial coefficient because it is equivalent\n",
            "        to the coefficient of k-th term in polynomial expansion of the\n",
            "        expression (1 + x)**n.\n",
            "        \n",
            "        Raises TypeError if either of the arguments are not integers.\n",
            "        Raises ValueError if either of the arguments are negative.\n",
            "    \n",
            "    copysign(x, y, /)\n",
            "        Return a float with the magnitude (absolute value) of x but the sign of y.\n",
            "        \n",
            "        On platforms that support signed zeros, copysign(1.0, -0.0)\n",
            "        returns -1.0.\n",
            "    \n",
            "    cos(x, /)\n",
            "        Return the cosine of x (measured in radians).\n",
            "    \n",
            "    cosh(x, /)\n",
            "        Return the hyperbolic cosine of x.\n",
            "    \n",
            "    degrees(x, /)\n",
            "        Convert angle x from radians to degrees.\n",
            "    \n",
            "    dist(p, q, /)\n",
            "        Return the Euclidean distance between two points p and q.\n",
            "        \n",
            "        The points should be specified as sequences (or iterables) of\n",
            "        coordinates.  Both inputs must have the same dimension.\n",
            "        \n",
            "        Roughly equivalent to:\n",
            "            sqrt(sum((px - qx) ** 2.0 for px, qx in zip(p, q)))\n",
            "    \n",
            "    erf(x, /)\n",
            "        Error function at x.\n",
            "    \n",
            "    erfc(x, /)\n",
            "        Complementary error function at x.\n",
            "    \n",
            "    exp(x, /)\n",
            "        Return e raised to the power of x.\n",
            "    \n",
            "    exp2(x, /)\n",
            "        Return 2 raised to the power of x.\n",
            "    \n",
            "    expm1(x, /)\n",
            "        Return exp(x)-1.\n",
            "        \n",
            "        This function avoids the loss of precision involved in the direct evaluation of exp(x)-1 for small x.\n",
            "    \n",
            "    fabs(x, /)\n",
            "        Return the absolute value of the float x.\n",
            "    \n",
            "    factorial(n, /)\n",
            "        Find n!.\n",
            "        \n",
            "        Raise a ValueError if x is negative or non-integral.\n",
            "    \n",
            "    floor(x, /)\n",
            "        Return the floor of x as an Integral.\n",
            "        \n",
            "        This is the largest integer <= x.\n",
            "    \n",
            "    fmod(x, y, /)\n",
            "        Return fmod(x, y), according to platform C.\n",
            "        \n",
            "        x % y may differ.\n",
            "    \n",
            "    frexp(x, /)\n",
            "        Return the mantissa and exponent of x, as pair (m, e).\n",
            "        \n",
            "        m is a float and e is an int, such that x = m * 2.**e.\n",
            "        If x is 0, m and e are both 0.  Else 0.5 <= abs(m) < 1.0.\n",
            "    \n",
            "    fsum(seq, /)\n",
            "        Return an accurate floating point sum of values in the iterable seq.\n",
            "        \n",
            "        Assumes IEEE-754 floating point arithmetic.\n",
            "    \n",
            "    gamma(x, /)\n",
            "        Gamma function at x.\n",
            "    \n",
            "    gcd(*integers)\n",
            "        Greatest Common Divisor.\n",
            "    \n",
            "    hypot(...)\n",
            "        hypot(*coordinates) -> value\n",
            "        \n",
            "        Multidimensional Euclidean distance from the origin to a point.\n",
            "        \n",
            "        Roughly equivalent to:\n",
            "            sqrt(sum(x**2 for x in coordinates))\n",
            "        \n",
            "        For a two dimensional point (x, y), gives the hypotenuse\n",
            "        using the Pythagorean theorem:  sqrt(x*x + y*y).\n",
            "        \n",
            "        For example, the hypotenuse of a 3/4/5 right triangle is:\n",
            "        \n",
            "            >>> hypot(3.0, 4.0)\n",
            "            5.0\n",
            "    \n",
            "    isclose(a, b, *, rel_tol=1e-09, abs_tol=0.0)\n",
            "        Determine whether two floating point numbers are close in value.\n",
            "        \n",
            "          rel_tol\n",
            "            maximum difference for being considered \"close\", relative to the\n",
            "            magnitude of the input values\n",
            "          abs_tol\n",
            "            maximum difference for being considered \"close\", regardless of the\n",
            "            magnitude of the input values\n",
            "        \n",
            "        Return True if a is close in value to b, and False otherwise.\n",
            "        \n",
            "        For the values to be considered close, the difference between them\n",
            "        must be smaller than at least one of the tolerances.\n",
            "        \n",
            "        -inf, inf and NaN behave similarly to the IEEE 754 Standard.  That\n",
            "        is, NaN is not close to anything, even itself.  inf and -inf are\n",
            "        only close to themselves.\n",
            "    \n",
            "    isfinite(x, /)\n",
            "        Return True if x is neither an infinity nor a NaN, and False otherwise.\n",
            "    \n",
            "    isinf(x, /)\n",
            "        Return True if x is a positive or negative infinity, and False otherwise.\n",
            "    \n",
            "    isnan(x, /)\n",
            "        Return True if x is a NaN (not a number), and False otherwise.\n",
            "    \n",
            "    isqrt(n, /)\n",
            "        Return the integer part of the square root of the input.\n",
            "    \n",
            "    lcm(*integers)\n",
            "        Least Common Multiple.\n",
            "    \n",
            "    ldexp(x, i, /)\n",
            "        Return x * (2**i).\n",
            "        \n",
            "        This is essentially the inverse of frexp().\n",
            "    \n",
            "    lgamma(x, /)\n",
            "        Natural logarithm of absolute value of Gamma function at x.\n",
            "    \n",
            "    log(...)\n",
            "        log(x, [base=math.e])\n",
            "        Return the logarithm of x to the given base.\n",
            "        \n",
            "        If the base not specified, returns the natural logarithm (base e) of x.\n",
            "    \n",
            "    log10(x, /)\n",
            "        Return the base 10 logarithm of x.\n",
            "    \n",
            "    log1p(x, /)\n",
            "        Return the natural logarithm of 1+x (base e).\n",
            "        \n",
            "        The result is computed in a way which is accurate for x near zero.\n",
            "    \n",
            "    log2(x, /)\n",
            "        Return the base 2 logarithm of x.\n",
            "    \n",
            "    modf(x, /)\n",
            "        Return the fractional and integer parts of x.\n",
            "        \n",
            "        Both results carry the sign of x and are floats.\n",
            "    \n",
            "    nextafter(x, y, /)\n",
            "        Return the next floating-point value after x towards y.\n",
            "    \n",
            "    perm(n, k=None, /)\n",
            "        Number of ways to choose k items from n items without repetition and with order.\n",
            "        \n",
            "        Evaluates to n! / (n - k)! when k <= n and evaluates\n",
            "        to zero when k > n.\n",
            "        \n",
            "        If k is not specified or is None, then k defaults to n\n",
            "        and the function returns n!.\n",
            "        \n",
            "        Raises TypeError if either of the arguments are not integers.\n",
            "        Raises ValueError if either of the arguments are negative.\n",
            "    \n",
            "    pow(x, y, /)\n",
            "        Return x**y (x to the power of y).\n",
            "    \n",
            "    prod(iterable, /, *, start=1)\n",
            "        Calculate the product of all the elements in the input iterable.\n",
            "        \n",
            "        The default start value for the product is 1.\n",
            "        \n",
            "        When the iterable is empty, return the start value.  This function is\n",
            "        intended specifically for use with numeric values and may reject\n",
            "        non-numeric types.\n",
            "    \n",
            "    radians(x, /)\n",
            "        Convert angle x from degrees to radians.\n",
            "    \n",
            "    remainder(x, y, /)\n",
            "        Difference between x and the closest integer multiple of y.\n",
            "        \n",
            "        Return x - n*y where n*y is the closest integer multiple of y.\n",
            "        In the case where x is exactly halfway between two multiples of\n",
            "        y, the nearest even value of n is used. The result is always exact.\n",
            "    \n",
            "    sin(x, /)\n",
            "        Return the sine of x (measured in radians).\n",
            "    \n",
            "    sinh(x, /)\n",
            "        Return the hyperbolic sine of x.\n",
            "    \n",
            "    sqrt(x, /)\n",
            "        Return the square root of x.\n",
            "    \n",
            "    tan(x, /)\n",
            "        Return the tangent of x (measured in radians).\n",
            "    \n",
            "    tanh(x, /)\n",
            "        Return the hyperbolic tangent of x.\n",
            "    \n",
            "    trunc(x, /)\n",
            "        Truncates the Real x to the nearest Integral toward 0.\n",
            "        \n",
            "        Uses the __trunc__ magic method.\n",
            "    \n",
            "    ulp(x, /)\n",
            "        Return the value of the least significant bit of the float x.\n",
            "\n",
            "DATA\n",
            "    e = 2.718281828459045\n",
            "    inf = inf\n",
            "    nan = nan\n",
            "    pi = 3.141592653589793\n",
            "    tau = 6.283185307179586\n",
            "\n",
            "FILE\n",
            "    (built-in)\n",
            "\n",
            "\n"
          ]
        }
      ],
      "source": [
        "help(math)"
      ]
    },
    {
      "cell_type": "code",
      "execution_count": null,
      "metadata": {
        "colab": {
          "base_uri": "https://localhost:8080/"
        },
        "id": "eC8h4LyDa1R_",
        "outputId": "c8b4b961-349d-4e7c-90c4-89b9be4048ee"
      },
      "outputs": [
        {
          "output_type": "stream",
          "name": "stdout",
          "text": [
            "Hello,AKSHITAx=10 y=3.5\n",
            "Hello,10x=3.5 y=AKSHITA\n",
            "Hello,AKSHITAx=20 y=10\n"
          ]
        }
      ],
      "source": [
        "#Replacement operator in python\n",
        "x=10\n",
        "y=3.5\n",
        "z=\"AKSHITA\"\n",
        "print(\"Hello,{2}x={0} y={1}\".format(x,y,z))\n",
        "print(\"Hello,{}x={} y={}\".format(x,y,z))\n",
        "print(\"Hello,{z}x={y} y={x}\".format(x=10,y=20,z=\"AKSHITA\"))"
      ]
    },
    {
      "cell_type": "code",
      "execution_count": null,
      "metadata": {
        "colab": {
          "base_uri": "https://localhost:8080/"
        },
        "id": "fq0jtUPloMO3",
        "outputId": "c52632dc-4275-4680-e8d1-f0eccb52e573"
      },
      "outputs": [
        {
          "output_type": "stream",
          "name": "stdout",
          "text": [
            "Define number6\n",
            "the no. is positive\n",
            "this is in if block\n",
            "the number is zero\n"
          ]
        }
      ],
      "source": [
        "x=int(input(\"Define number\"))\n",
        "if x>0:\n",
        "    print(\"the no. is positive\")\n",
        "    print(\"this is in if block\")\n",
        "if x<0:\n",
        "    print(\"this no, is negative\")\n",
        "    print(\"this is in if block\")\n",
        "else:\n",
        "    print(\"the number is zero\")"
      ]
    },
    {
      "cell_type": "code",
      "source": [
        "8while True:\n",
        "  try:\n",
        "    num1 = float(input(\"num1\\t=\"))\n",
        "    num2 = float(input(\"num2\\t=\"))\n",
        "    break # Exit the loop if both inputs are valid floats\n",
        "  except ValueError:\n",
        "    print(\"Invalid input. Please enter valid numbers.\")\n",
        "\n",
        "operator = input(\"+\\t-\\t/\\t*\\t\")\n",
        "if operator =='+':\n",
        "    print(\"num1+num2=\",num1+num2)\n",
        "elif operator =='-':\n",
        "    print(\"num1-num2=\",num1-num2)\n",
        "elif operator =='*':\n",
        "    print(\"num1*num2=\",num1*num2)\n",
        "elif operator =='/':\n",
        "    if num2 != 0:\n",
        "        print(\"num1/num2=\",num1/num2)\n",
        "    else:\n",
        "        print(\"Cannot divide by zero\")\n",
        "else:\n",
        "    print(\"Invalid operator\")"
      ],
      "metadata": {
        "id": "gCry0cg-3lwi",
        "colab": {
          "base_uri": "https://localhost:8080/"
        },
        "outputId": "e2500565-611c-457a-b303-4d0837544c93"
      },
      "execution_count": null,
      "outputs": [
        {
          "output_type": "stream",
          "name": "stdout",
          "text": [
            "num1\t=40\n",
            "num2\t=66\n",
            "+\t-\t/\t*\t\n",
            "Invalid operator\n"
          ]
        }
      ]
    },
    {
      "cell_type": "code",
      "source": [
        "#WELCOME TO GAME KBC\n",
        "\n",
        "print(\"welcome to KBC\")\n",
        "\n",
        "# Question 1\n",
        "print(\"here is your first question\")\n",
        "print(\"what is the capital of india\")\n",
        "print(\"A.Delhi\")\n",
        "print(\"B.Mumbai\")\n",
        "print(\"C.Kolkata\")\n",
        "print(\"D.Chennai\")\n",
        "\n",
        "answer1 = input(\"enter your answer( A ,B ,C , D)\")\n",
        "\n",
        "if answer1 ==\"A\":\n",
        "  print(\"Correct!\")\n",
        "else:\n",
        "    print(\"worng answer\")\n",
        "    quit()\n",
        "\n",
        "# Question 2\n",
        "print(\"\\nHere is your second question:\")\n",
        "print(\"LAKSHITA KITNE SAAL KI H?\")\n",
        "print(\"A. 80\")\n",
        "print(\"B. 50\")\n",
        "print(\"C. 40\")\n",
        "print(\"D. 10\")\n",
        "answer2 = input(\"Enter your answer (A, B, C, D): \")\n",
        "\n",
        "if answer2 == \"B\":\n",
        "    print(\"Correct!\")\n",
        "else:\n",
        "    print(\"Wrong answer\")\n",
        "    quit()\n",
        "\n",
        "# Question 3\n",
        "print(\"\\nHere is your third question:\")\n",
        "print(\"SABSE PAGL INSAN KON H?\")\n",
        "print(\"A. RADHIKHA\")\n",
        "print(\"B. KHUSHI\")\n",
        "print(\"C. LAKSHITA\")\n",
        "print(\"D. AKSHITA\")\n",
        "answer3 = input(\"Enter your answer (A, B, C, D): \")\n",
        "\n",
        "if answer3 == \"C\":\n",
        "      print(\"Correct!\")\n",
        "      print(\"\\nCONGRATULATIONS! YOU WON THE GAME!\")\n",
        "else:\n",
        "      print(\"Wrong answer\")\n",
        "      quit()"
      ],
      "metadata": {
        "id": "mKdrfQL-vs97",
        "colab": {
          "base_uri": "https://localhost:8080/"
        },
        "outputId": "0281a6d1-ebbe-4a76-bacf-d07efec5aa49"
      },
      "execution_count": 1,
      "outputs": [
        {
          "output_type": "stream",
          "name": "stdout",
          "text": [
            "welcome to KBC\n",
            "here is your first question\n",
            "what is the capital of india\n",
            "A.Delhi\n",
            "B.Mumbai\n",
            "C.Kolkata\n",
            "D.Chennai\n",
            "enter your answer( A ,B ,C , D)A\n",
            "Correct!\n",
            "\n",
            "Here is your second question:\n",
            "LAKSHITA KITNE SAAL KI H?\n",
            "A. 80\n",
            "B. 50\n",
            "C. 40\n",
            "D. 10\n",
            "Enter your answer (A, B, C, D): D\n",
            "Wrong answer\n",
            "\n",
            "Here is your third question:\n",
            "SABSE PAGL INSAN KON H?\n",
            "A. RADHIKHA\n",
            "B. KHUSHI\n",
            "C. LAKSHITA\n",
            "D. AKSHITA\n",
            "Enter your answer (A, B, C, D): B\n",
            "Wrong answer\n"
          ]
        }
      ]
    },
    {
      "cell_type": "code",
      "source": [
        "#CASTLE GAME\n",
        "\n",
        "print(\"WELCOME TO CASTLE GAME\")\n",
        "print(\"ENTER THE SECRET CODE TO OPEN THE DOOR\")\n",
        "\n",
        "code= int(input(\"enter the code\"))\n",
        "if code %3==0 and code %5 == 0:\n",
        "  print(\"DOOR IS OPEN\")\n",
        "elif code %3 ==0:\n",
        "  print(\"very close , try again\")\n",
        "elif code %5 ==0:\n",
        "  print(\"very close, try again\")\n",
        "else:\n",
        "  print(\"access denied\")"
      ],
      "metadata": {
        "id": "uiQIsKxjyjT2",
        "colab": {
          "base_uri": "https://localhost:8080/"
        },
        "outputId": "e065a7cb-3ad1-4563-f0ff-d26371bd6c74"
      },
      "execution_count": null,
      "outputs": [
        {
          "output_type": "stream",
          "name": "stdout",
          "text": [
            "WELCOME TO CASTLE GAME\n",
            "ENTER THE SECRET CODE TO OPEN THE DOOR\n",
            "enter the code55\n",
            "very close, try again\n"
          ]
        }
      ]
    },
    {
      "cell_type": "code",
      "source": [
        "#REVERSE NUMBER PROGRAM\n",
        "x=10\n",
        "while x>=1:\n",
        "  print(x)\n",
        "  x-=1"
      ],
      "metadata": {
        "id": "RehebD8I48t3",
        "colab": {
          "base_uri": "https://localhost:8080/"
        },
        "outputId": "a505f819-7cb1-4b42-df3c-1ae25fddfc3c"
      },
      "execution_count": null,
      "outputs": [
        {
          "output_type": "stream",
          "name": "stdout",
          "text": [
            "10\n",
            "9\n",
            "8\n",
            "7\n",
            "6\n",
            "5\n",
            "4\n",
            "3\n",
            "2\n",
            "1\n"
          ]
        }
      ]
    },
    {
      "cell_type": "code",
      "source": [
        "#PROGRAM TO DETECT NUMBER OF a IN NAME USING FOR LOOP\n",
        "x=input(\"enter a string\")\n",
        "count=0\n",
        "for i in x:\n",
        "  if i=='a':\n",
        "    count+=1\n",
        "print(\"count=\",count)"
      ],
      "metadata": {
        "id": "eFUITGUS7p6W",
        "colab": {
          "base_uri": "https://localhost:8080/"
        },
        "outputId": "4642b95a-ba36-458a-f9fe-1ebfed7fd62e"
      },
      "execution_count": null,
      "outputs": [
        {
          "output_type": "stream",
          "name": "stdout",
          "text": [
            "enter a stringakshita\n",
            "count= 2\n"
          ]
        }
      ]
    },
    {
      "cell_type": "code",
      "source": [
        "# multiplication table using for loop\n",
        "num = int(input(\"Enter a number for the multiplication table: \"))\n",
        "\n",
        "for i in range(1, 11):\n",
        "  print(f\"{num} * {i} = {num * i}\")"
      ],
      "metadata": {
        "id": "e289aMhu-hq6",
        "colab": {
          "base_uri": "https://localhost:8080/"
        },
        "outputId": "7baf9dd1-defb-47d0-9fa6-78cd208b40e5"
      },
      "execution_count": null,
      "outputs": [
        {
          "output_type": "stream",
          "name": "stdout",
          "text": [
            "Enter a number for the multiplication table: 7\n",
            "7 * 1 = 7\n",
            "7 * 2 = 14\n",
            "7 * 3 = 21\n",
            "7 * 4 = 28\n",
            "7 * 5 = 35\n",
            "7 * 6 = 42\n",
            "7 * 7 = 49\n",
            "7 * 8 = 56\n",
            "7 * 9 = 63\n",
            "7 * 10 = 70\n"
          ]
        }
      ]
    }
  ],
  "metadata": {
    "colab": {
      "provenance": [],
      "authorship_tag": "ABX9TyNrbI6IVSxhxd7d64JSoTuG",
      "include_colab_link": true
    },
    "kernelspec": {
      "display_name": "Python 3",
      "name": "python3"
    },
    "language_info": {
      "name": "python"
    }
  },
  "nbformat": 4,
  "nbformat_minor": 0
}