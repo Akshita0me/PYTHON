{
  "nbformat": 4,
  "nbformat_minor": 0,
  "metadata": {
    "colab": {
      "provenance": [],
      "include_colab_link": true
    },
    "kernelspec": {
      "name": "python3",
      "display_name": "Python 3"
    },
    "language_info": {
      "name": "python"
    }
  },
  "cells": [
    {
      "cell_type": "markdown",
      "metadata": {
        "id": "view-in-github",
        "colab_type": "text"
      },
      "source": [
        "<a href=\"https://colab.research.google.com/github/Akshita0me/PYTHON/blob/main/Basics_of_python(08_09_july_2025_).ipynb\" target=\"_parent\"><img src=\"https://colab.research.google.com/assets/colab-badge.svg\" alt=\"Open In Colab\"/></a>"
      ]
    },
    {
      "cell_type": "code",
      "execution_count": null,
      "metadata": {
        "id": "-JaM9yc5Jo43",
        "colab": {
          "base_uri": "https://localhost:8080/"
        },
        "outputId": "5d92ba12-ad18-49e1-a4ed-8c1b9447df8b"
      },
      "outputs": [
        {
          "output_type": "stream",
          "name": "stdout",
          "text": [
            "Enter a year5020\n",
            "5020 is a leap year\n"
          ]
        }
      ],
      "source": [
        "#program to print a leap year\n",
        "year = int(input(\"Enter a year\"))\n",
        "if year % 4 == 0:\n",
        "  if year % 100 == 0:\n",
        "    if year % 400 == 0:\n",
        "      print(year, \"is a leap year\")\n",
        "    else:\n",
        "      print(year, \"is not a leap year\")\n",
        "  else:\n",
        "    print(year,\"is a leap year\")\n",
        "else:\n",
        "  print(year, \"is not a leap year\")"
      ]
    },
    {
      "cell_type": "code",
      "source": [
        "#program to print sum of natural numbers\n",
        "n = int(input(\"Enter a number\"))\n",
        "total_sum = n * (n + 1) // 2\n",
        "print(total_sum)"
      ],
      "metadata": {
        "colab": {
          "base_uri": "https://localhost:8080/"
        },
        "id": "cYssPskE6ODw",
        "outputId": "dcea7946-dff3-427d-d07f-031c45cee377"
      },
      "execution_count": null,
      "outputs": [
        {
          "output_type": "stream",
          "name": "stdout",
          "text": [
            "Enter a number5\n",
            "15\n"
          ]
        }
      ]
    },
    {
      "cell_type": "code",
      "source": [
        "#program of range function\n",
        "y = range(0,9,2)\n",
        "for x in y:\n",
        "  print(x)"
      ],
      "metadata": {
        "colab": {
          "base_uri": "https://localhost:8080/"
        },
        "id": "T51qcQnS9Tzx",
        "outputId": "cfed51da-d24d-436b-851a-0a0646f23d59"
      },
      "execution_count": null,
      "outputs": [
        {
          "output_type": "stream",
          "name": "stdout",
          "text": [
            "0\n",
            "2\n",
            "4\n",
            "6\n",
            "8\n"
          ]
        }
      ]
    },
    {
      "cell_type": "markdown",
      "source": [
        "~range() snapshot in python\n",
        "\n",
        "-it generates sequence\n",
        "\n",
        "-range start from 0\n",
        "\n",
        "**note**: Syntax range(start,stop,step)"
      ],
      "metadata": {
        "id": "JbZuzd9Y9XPS"
      }
    },
    {
      "cell_type": "code",
      "source": [
        "x= range(10) #agar sirf ek likha uska matlab stop hai aur by default iska start will be 0\n",
        "for i in x:\n",
        "  print(i)"
      ],
      "metadata": {
        "colab": {
          "base_uri": "https://localhost:8080/"
        },
        "id": "gpauDZW_98kq",
        "outputId": "3da7c01e-7325-479f-9420-5a8eb60a21e9"
      },
      "execution_count": null,
      "outputs": [
        {
          "output_type": "stream",
          "name": "stdout",
          "text": [
            "0\n",
            "1\n",
            "2\n",
            "3\n",
            "4\n",
            "5\n",
            "6\n",
            "7\n",
            "8\n",
            "9\n"
          ]
        }
      ]
    },
    {
      "cell_type": "markdown",
      "source": [
        "TRANSFER STATEMENT\n",
        "\n",
        "While else : given a statement  is true condition dalddenge\n",
        "\n",
        "continue statement : we can stop the current iteration and continue with the next\n",
        "\n",
        "pass : if condition is true that we can pass.\n",
        "\n"
      ],
      "metadata": {
        "id": "GUURyS122Bm1"
      }
    },
    {
      "cell_type": "code",
      "source": [
        "import random\n",
        "x = random.randint(1,10)\n",
        "print(x)"
      ],
      "metadata": {
        "colab": {
          "base_uri": "https://localhost:8080/"
        },
        "id": "XOLk5hGd_OA6",
        "outputId": "b59063f0-7210-4ab6-e261-114994000e94"
      },
      "execution_count": null,
      "outputs": [
        {
          "output_type": "stream",
          "name": "stdout",
          "text": [
            "1\n"
          ]
        }
      ]
    },
    {
      "cell_type": "markdown",
      "source": [
        "Random: To add functionality randomly which will be added by computer itself.  "
      ],
      "metadata": {
        "id": "09XNboA_HIxy"
      }
    },
    {
      "cell_type": "code",
      "source": [
        "l =[]\n",
        "l.append(10)\n",
        "l.append(20)\n",
        "l.append(30)\n",
        "print(l)"
      ],
      "metadata": {
        "colab": {
          "base_uri": "https://localhost:8080/"
        },
        "id": "ra6aqTB9JtNW",
        "outputId": "566a4a98-ab03-4334-ce0a-20a0f618880e"
      },
      "execution_count": null,
      "outputs": [
        {
          "output_type": "stream",
          "name": "stdout",
          "text": [
            "[10, 20, 30]\n"
          ]
        }
      ]
    },
    {
      "cell_type": "markdown",
      "source": [
        "-Lists, example of creating lists, insert functions facts, multiple list facts.\n",
        "\n",
        "~ Lists: lists are very similiar to arrays but in python teh values can be expandable which gives us enormous advantage to it whie this is also possible in dynamuc arrays in c with explicit coding\n",
        "\n",
        "- we can store hetrogenous values\n",
        "\n",
        "- they can contaion any type of variable\n",
        "\n",
        "~ Syntax:\n",
        "i=[] //empty list\n",
        "\n",
        "i=[10,20,30] // list of three values at time of creation\n",
        "\n",
        "- we generally use append function in order to approve values in the list\n",
        "\n",
        "- we can print in many ways."
      ],
      "metadata": {
        "id": "rVipObYMJu-R"
      }
    },
    {
      "cell_type": "code",
      "source": [
        "l=[]\n",
        "l.append(10)\n",
        "l.append(20)\n",
        "l.append(30)\n",
        "print(l[0] , l[1] , l[2])\n",
        "for x in l:\n",
        "  print(x)"
      ],
      "metadata": {
        "colab": {
          "base_uri": "https://localhost:8080/"
        },
        "id": "huQrus3sKMfI",
        "outputId": "46a5f82a-9d3d-4fa7-80b9-22722d2235ce"
      },
      "execution_count": null,
      "outputs": [
        {
          "output_type": "stream",
          "name": "stdout",
          "text": [
            "10 20 30\n",
            "10\n",
            "20\n",
            "30\n"
          ]
        }
      ]
    },
    {
      "cell_type": "code",
      "source": [
        "l2= [10,20,30,40,50]\n",
        "print(l2)"
      ],
      "metadata": {
        "colab": {
          "base_uri": "https://localhost:8080/"
        },
        "id": "q315b8MDMufX",
        "outputId": "4b4f7753-fb38-4f35-cd9a-fe9ca19b3ffe"
      },
      "execution_count": null,
      "outputs": [
        {
          "output_type": "stream",
          "name": "stdout",
          "text": [
            "[10, 20, 30, 40, 50]\n"
          ]
        }
      ]
    },
    {
      "cell_type": "markdown",
      "source": [
        "Lists can be empty collection of integer values ,collect of strings, collection of hetro genous values\n",
        "\n",
        "- indexing of list starts from 0 just like in c\n",
        "\n"
      ],
      "metadata": {
        "id": "X9V7iG-aMM8r"
      }
    },
    {
      "cell_type": "code",
      "source": [
        "a=[]\n",
        "a.append(10)\n",
        "a.append(20)\n",
        "a.append(30)\n",
        "print(a)\n",
        "a.insert(2,30)\n",
        "print(a)\n",
        "a.insert(1,40)\n",
        "print(a)\n",
        "a.insert(-1,10)\n",
        "print(a)"
      ],
      "metadata": {
        "colab": {
          "base_uri": "https://localhost:8080/"
        },
        "id": "A-Hd_it6NAKn",
        "outputId": "2a4a2cb0-48a4-499e-ab23-54f9033f8574"
      },
      "execution_count": null,
      "outputs": [
        {
          "output_type": "stream",
          "name": "stdout",
          "text": [
            "[10, 20, 30]\n",
            "[10, 20, 30, 30]\n",
            "[10, 40, 20, 30, 30]\n",
            "[10, 40, 20, 30, 10, 30]\n"
          ]
        }
      ]
    },
    {
      "cell_type": "markdown",
      "source": [
        "Difference between append and index:\n",
        "\n",
        "Feature           \n",
        " - append()             \t  \n",
        " - index()\n",
        "\n",
        "Action\n",
        "- Adds item to end of list\t  \n",
        "-  Finds position of item\n",
        "\n",
        "Return value\t      \n",
        "- None\t                  \n",
        "- Index (int)\n",
        "\n",
        "Error raised        \n",
        "-\tNone\t                \n",
        "- ValueError if item not found\n",
        "\n",
        "Example\t        \n",
        " -  list.append(4)\t         \n",
        " - list.index(4)\n",
        "\n",
        "\n",
        "\n",
        "Multiple lists facts in python:\n",
        "\n",
        "- we can us e+ operator in 2 lists taht will append the data\n",
        "\n",
        "- if we try to add scalar value to list, then it will give a error\n",
        "\n",
        "- we can show the adding of scalar value taht actually not append list\n",
        "\n",
        "- we can also use compound assignment operator to show or add scalar value in list\n",
        "\n",
        "\n"
      ],
      "metadata": {
        "id": "Dl0jUY7aLh2_"
      }
    },
    {
      "cell_type": "code",
      "source": [
        "A = [1,2,3]\n",
        "B = [4,5,6]\n",
        "C = A+B\n",
        "print(c)"
      ],
      "metadata": {
        "colab": {
          "base_uri": "https://localhost:8080/"
        },
        "id": "Lw1Piy4BQ5Zs",
        "outputId": "e4df63cb-f6ed-4c44-b6b1-dd21def8bdcd"
      },
      "execution_count": null,
      "outputs": [
        {
          "output_type": "stream",
          "name": "stdout",
          "text": [
            "[1, 2, 3, 4, 5, 6]\n"
          ]
        }
      ]
    },
    {
      "cell_type": "code",
      "source": [
        "A = [1,2,3]\n",
        "B = [4,5,6]\n",
        "A += [10]\n",
        "print(A)"
      ],
      "metadata": {
        "colab": {
          "base_uri": "https://localhost:8080/"
        },
        "id": "MuAoG7asRYru",
        "outputId": "9f1c494c-0f16-4152-f4cd-f7812e17535b"
      },
      "execution_count": null,
      "outputs": [
        {
          "output_type": "stream",
          "name": "stdout",
          "text": [
            "[1, 2, 3, 10]\n"
          ]
        }
      ]
    },
    {
      "cell_type": "code",
      "source": [
        "D=[10,20]\n",
        "D*3\n",
        "print(D)\n",
        "D*=3\n",
        "print(D)"
      ],
      "metadata": {
        "colab": {
          "base_uri": "https://localhost:8080/"
        },
        "id": "-riIVJy4Rpul",
        "outputId": "918f2a0e-bcc3-4b76-b8fe-26e436e3e8f1"
      },
      "execution_count": null,
      "outputs": [
        {
          "output_type": "stream",
          "name": "stdout",
          "text": [
            "[10, 20]\n",
            "[10, 20, 10, 20, 10, 20]\n"
          ]
        }
      ]
    },
    {
      "cell_type": "code",
      "source": [
        "d= [10,20]\n",
        "d*=3\n",
        "print(d)\n",
        "d.remove(20)\n",
        "print(d)"
      ],
      "metadata": {
        "colab": {
          "base_uri": "https://localhost:8080/"
        },
        "id": "mtLwY838SpLI",
        "outputId": "e30d9855-cd89-4532-f89f-9e95c2fd4373"
      },
      "execution_count": null,
      "outputs": [
        {
          "output_type": "stream",
          "name": "stdout",
          "text": [
            "[10, 20, 10, 20, 10, 20]\n",
            "[10, 10, 20, 10, 20]\n"
          ]
        }
      ]
    },
    {
      "cell_type": "markdown",
      "source": [
        "- How to edit value in list :\n",
        "\n",
        "example: mylist=[10,20,30]\n",
        "\n",
        "mylist[0]=100// oth index is there\n",
        "\n",
        "output :[100,20,30]\n",
        "\n",
        "- HOw to remove value inlist\n",
        "\n",
        "mylist.remove(20)\n",
        "\n",
        "mylist\n",
        "\n",
        "output:[10,20]\n",
        "\n",
        "if we try to remove something that is not in the list then it will give error.\n",
        "\n"
      ],
      "metadata": {
        "id": "1nmI6m3DR2s1"
      }
    },
    {
      "cell_type": "code",
      "source": [
        "# sort\n",
        "mylist=[30,10,50,80]\n",
        "mylist.sort()\n",
        "print(mylist)"
      ],
      "metadata": {
        "colab": {
          "base_uri": "https://localhost:8080/"
        },
        "id": "urB5cLr4Uq3l",
        "outputId": "afaeb99b-da5f-46bf-dd1a-cb72fcfa6edf"
      },
      "execution_count": null,
      "outputs": [
        {
          "output_type": "stream",
          "name": "stdout",
          "text": [
            "[10, 30, 50, 80]\n"
          ]
        }
      ]
    },
    {
      "cell_type": "markdown",
      "source": [
        "sort will sort out the values in increasing order"
      ],
      "metadata": {
        "id": "2QusxBPmUslv"
      }
    },
    {
      "cell_type": "code",
      "source": [
        "mylist=[30,10,50,80]\n",
        "mylist.clear()\n",
        "print(mylist)"
      ],
      "metadata": {
        "colab": {
          "base_uri": "https://localhost:8080/"
        },
        "id": "Y_yRLoCwVExp",
        "outputId": "252095df-a2e0-4bb0-8ec5-7f54df9fc1e1"
      },
      "execution_count": null,
      "outputs": [
        {
          "output_type": "stream",
          "name": "stdout",
          "text": [
            "[]\n"
          ]
        }
      ]
    },
    {
      "cell_type": "code",
      "source": [
        "mylist=[30,10,50,80]\n",
        "mylist.reverse()\n",
        "print(mylist)"
      ],
      "metadata": {
        "colab": {
          "base_uri": "https://localhost:8080/"
        },
        "id": "9WysZ8jzVgiJ",
        "outputId": "72fcbefd-c3f3-4ba0-8e40-c6ad4c3d5094"
      },
      "execution_count": null,
      "outputs": [
        {
          "output_type": "stream",
          "name": "stdout",
          "text": [
            "[80, 50, 10, 30]\n"
          ]
        }
      ]
    },
    {
      "cell_type": "code",
      "source": [
        "mylist=[30,10,50,80]\n",
        "mylist.pop()\n",
        "print(mylist)"
      ],
      "metadata": {
        "colab": {
          "base_uri": "https://localhost:8080/"
        },
        "id": "kluBYy6NVMjf",
        "outputId": "42a0338c-542f-41b5-dbee-abdbf8b6a6ba"
      },
      "execution_count": null,
      "outputs": [
        {
          "output_type": "stream",
          "name": "stdout",
          "text": [
            "[30, 10, 50]\n"
          ]
        }
      ]
    },
    {
      "cell_type": "markdown",
      "source": [
        "pop() : extracting the values from the list\n",
        "\n",
        "- if no argument is given then it willl extract the last one\n",
        "\n",
        "**Remove** just removes the value but **Pop** will return some values."
      ],
      "metadata": {
        "id": "z3esYvq1VM2e"
      }
    },
    {
      "cell_type": "code",
      "source": [
        "mylist=[10,20,30,40,50]\n",
        "print(mylist)\n",
        "x = mylist.pop(0)\n",
        "print(x)"
      ],
      "metadata": {
        "colab": {
          "base_uri": "https://localhost:8080/"
        },
        "id": "pjHd35lbVr-m",
        "outputId": "ee2b203a-41f0-466b-be4a-1a4dd4d49451"
      },
      "execution_count": null,
      "outputs": [
        {
          "output_type": "stream",
          "name": "stdout",
          "text": [
            "[10, 20, 30, 40, 50]\n",
            "10\n"
          ]
        }
      ]
    },
    {
      "cell_type": "code",
      "source": [
        "a=[10,20,30]\n",
        "a.index(30)\n"
      ],
      "metadata": {
        "colab": {
          "base_uri": "https://localhost:8080/"
        },
        "id": "4Ed3-BQUWdSL",
        "outputId": "ae7de2f6-8cd5-4af6-a726-b071ce029784"
      },
      "execution_count": null,
      "outputs": [
        {
          "output_type": "execute_result",
          "data": {
            "text/plain": [
              "2"
            ]
          },
          "metadata": {},
          "execution_count": 52
        }
      ]
    },
    {
      "cell_type": "markdown",
      "source": [
        "index is used to find out the index of particular value,"
      ],
      "metadata": {
        "id": "Y-YS-qMAWnYQ"
      }
    },
    {
      "cell_type": "code",
      "source": [
        "a=[10,20,10,20,30,10]\n",
        "a.index(10,1,6)"
      ],
      "metadata": {
        "colab": {
          "base_uri": "https://localhost:8080/"
        },
        "id": "vVQf848oXDGj",
        "outputId": "85097619-eb58-483e-faa8-5c7d630f7334"
      },
      "execution_count": null,
      "outputs": [
        {
          "output_type": "execute_result",
          "data": {
            "text/plain": [
              "2"
            ]
          },
          "metadata": {},
          "execution_count": 55
        }
      ]
    },
    {
      "cell_type": "code",
      "source": [
        "#fruitbasket with help of (append,remove,insert,pop)\n",
        "fruitbasket=[]\n",
        "fruitbasket.append(\"strawberry\")\n",
        "fruitbasket.append(\"pineapple\")\n",
        "fruitbasket.append(\"pear\")    #append\n",
        "print(fruitbasket)\n",
        "fruitbasket.insert(1,\"pear\")\n",
        "print(fruitbasket)\n",
        "fruitbasket.remove(\"pear\")\n",
        "print(fruitbasket)\n",
        "fruitbasket.pop()\n",
        "print(fruitbasket)\n"
      ],
      "metadata": {
        "id": "-dFcIhFFX57z",
        "colab": {
          "base_uri": "https://localhost:8080/"
        },
        "outputId": "12fed562-1643-4bdb-b42b-69de81e80bc7"
      },
      "execution_count": null,
      "outputs": [
        {
          "output_type": "stream",
          "name": "stdout",
          "text": [
            "['strawberry', 'pineapple', 'pear']\n",
            "['strawberry', 'pear', 'pineapple', 'pear']\n",
            "['strawberry', 'pineapple', 'pear']\n",
            "['strawberry', 'pineapple']\n"
          ]
        }
      ]
    },
    {
      "cell_type": "markdown",
      "source": [
        "Count heLps to finding occurences of values in list."
      ],
      "metadata": {
        "id": "oDzUySawX6JV"
      }
    },
    {
      "cell_type": "code",
      "source": [
        "# CREATE A REPORT CARD\n",
        "name = input(\"Enter student name: \")\n",
        "roll_number = input(\"Enter roll number: \")\n",
        "father_name = input(\"Enter father name: \")\n",
        "mother_name = input(\"Enter mother name: \")\n",
        "human_value = input(\"Enter marks in human value\")\n",
        "physics = input(\"Enter marks in physics\")\n",
        "electrical = input(\"Enter marks in electrical\")\n",
        "maths = input(\"Enter marks in maths\")\n",
        "chemistry = input(\"Enter marks in chemistry\")\n",
        "\n"
      ],
      "metadata": {
        "id": "K7zSQGboRa7R"
      },
      "execution_count": null,
      "outputs": []
    },
    {
      "cell_type": "code",
      "source": [
        "# Create an empty list to store report card data\n",
        "report_card = []\n",
        "\n",
        "# Taking basic student information\n",
        "name = input(\"Enter student name: \")\n",
        "roll_number = input(\"Enter roll number: \")\n",
        "father_name = input(\"Enter father's name: \")\n",
        "mother_name = input(\"Enter mother's name: \")\n",
        "\n",
        "# Using append to add student info\n",
        "report_card.append([\"Student Name\", name])\n",
        "report_card.append([\"Roll Number\", roll_number])\n",
        "report_card.append([\"Father's Name\", father_name])\n",
        "report_card.append([\"Mother's Name\", mother_name])\n",
        "\n",
        "# Taking marks for subjects\n",
        "human_value = input(\"Enter marks in Human Value: \")\n",
        "physics = input(\"Enter marks in Physics: \")\n",
        "electrical = input(\"Enter marks in Electrical: \")\n",
        "maths = input(\"Enter marks in Maths: \")\n",
        "chemistry = input(\"Enter marks in Chemistry: \")\n",
        "\n",
        "# Using append to add marks\n",
        "report_card.append([\"Human Value\", human_value])\n",
        "report_card.append([\"Physics\", physics])\n",
        "report_card.append([\"Electrical\", electrical])\n",
        "report_card.append([\"Maths\", maths])\n",
        "report_card.append([\"Chemistry\", chemistry])\n",
        "\n",
        "# Use insert to add total marks at a specific position (example: index 5)\n",
        "total_marks = int(human_value) + int(physics) + int(electrical) + int(maths) + int(chemistry)\n",
        "report_card.insert(5, [\"Total Marks\", total_marks])\n",
        "\n",
        "# (Optional) Remove a subject if needed\n",
        "remove_subject = input(\"Enter subject name to remove from report (or press Enter to skip): \")\n",
        "if remove_subject:\n",
        "    for item in report_card:\n",
        "        if item[0].lower() == remove_subject.lower():\n",
        "            report_card.remove(item)\n",
        "            break\n",
        "\n",
        "# Print the report card in tabular form\n",
        "print(\"\\n---- Report Card ----\")\n",
        "print(\"{:<20} {:<10}\".format(\"Field\", \"Value\"))\n",
        "print(\"-\" * 30)\n",
        "for field in report_card:\n",
        "    print(\"{:<20} {:<10}\".format(field[0], field[1]))\n"
      ],
      "metadata": {
        "colab": {
          "base_uri": "https://localhost:8080/"
        },
        "id": "SQE8JlfZcn4U",
        "outputId": "1f521cb0-30b3-45d6-b040-78d3372dae0a"
      },
      "execution_count": null,
      "outputs": [
        {
          "output_type": "stream",
          "name": "stdout",
          "text": [
            "Enter student name:  AKSHITA\n",
            "Enter roll number:  3456\n",
            "Enter father's name: PRATAP SINGH \n",
            "Enter mother's name: MANJU\n",
            "Enter marks in Human Value: 70\n",
            "Enter marks in Physics: 90\n",
            "Enter marks in Electrical: 89\n",
            "Enter marks in Maths: 87\n",
            "Enter marks in Chemistry: 88\n",
            "Enter subject name to remove from report (or press Enter to skip): \n",
            "\n",
            "---- Report Card ----\n",
            "Field                Value     \n",
            "------------------------------\n",
            "Student Name          AKSHITA  \n",
            "Roll Number           3456     \n",
            "Father's Name        PRATAP SINGH \n",
            "Mother's Name        MANJU     \n",
            "Human Value          70        \n",
            "Total Marks          424       \n",
            "Physics              90        \n",
            "Electrical           89        \n",
            "Maths                87        \n",
            "Chemistry            88        \n"
          ]
        }
      ]
    },
    {
      "cell_type": "code",
      "source": [
        "#lakshita akshita  radhika *\n",
        "import random\n",
        "c=['lakshita','akshita','radhika']\n",
        "name=str(input(\"ENTER YOUR NAME:-\"))\n",
        "random_c = random.choice(c)\n",
        "x=random_c\n",
        "score=0\n",
        "computer=0\n",
        "n=0\n",
        "while score<3 and computer<3:\n",
        "  n+=1\n",
        "  user=str(input(f\"\\nChoose:-lakshita or akshita or radhika\\n\\n{n}:-{name}:-\"))\n",
        "  if user=='lakshita' or user=='akshita' or user=='radhika':\n",
        "        print(\"COMPUTER:-\",x)\n",
        "        if user==x:\n",
        "            score+=1\n",
        "            print(f\"good +1\\n\\t\\t\\tcomputer={computer}\\n\\t\\t\\t{name}={score}\")\n",
        "            continue\n",
        "        else :\n",
        "                computer+=1\n",
        "                print(f\"hahaha\\t\\t\\t\\n\\t\\t\\tcomputer={computer}\\n\\t\\t\\t{name}={score}\")\n",
        "                continue\n",
        "  else:\n",
        "                    print(f\"wrong\\nCheck your input {name}\")\n",
        "                    print(f\"\\t\\t\\t{name}={score}\\n\")\n",
        "                    continue\n",
        "else :\n",
        "                        print(f\"\\t\\t\\tGAME COMPLETED\")\n",
        "                        if computer==3:\n",
        "                            print(f\"\\n\\t\\t\\tCOMPUTER WINS\")\n",
        "                        elif score==3:\n",
        "                                print(f\"{name}WINS\")\n",
        "                        else :\n",
        "                                    print(\"DRAW\")"
      ],
      "metadata": {
        "colab": {
          "base_uri": "https://localhost:8080/"
        },
        "id": "UcmMQJ8gkrVN",
        "outputId": "14e518a9-223e-4dcc-e85e-ade4b089c74f"
      },
      "execution_count": null,
      "outputs": [
        {
          "output_type": "stream",
          "name": "stdout",
          "text": [
            "ENTER YOUR NAME:-anmol\n",
            "\n",
            "Choose:-lakshita or akshita or radhika\n",
            "\n",
            "1:-anmol:-a\n",
            "wrong\n",
            "Check your input anmol\n",
            "\t\t\tanmol=0\n",
            "\n",
            "\n",
            "Choose:-lakshita or akshita or radhika\n",
            "\n",
            "2:-anmol:-radika\n",
            "wrong\n",
            "Check your input anmol\n",
            "\t\t\tanmol=0\n",
            "\n",
            "\n",
            "Choose:-lakshita or akshita or radhika\n",
            "\n",
            "3:-anmol:-akshita\n",
            "COMPUTER:- radhika\n",
            "hahaha\t\t\t\n",
            "\t\t\tcomputer=1\n",
            "\t\t\tanmol=0\n",
            "\n",
            "Choose:-lakshita or akshita or radhika\n",
            "\n",
            "4:-anmol:-radhika\n",
            "COMPUTER:- radhika\n",
            "good +1\n",
            "\t\t\tcomputer=1\n",
            "\t\t\tanmol=1\n",
            "\n",
            "Choose:-lakshita or akshita or radhika\n",
            "\n",
            "5:-anmol:-lakshita\n",
            "COMPUTER:- radhika\n",
            "hahaha\t\t\t\n",
            "\t\t\tcomputer=2\n",
            "\t\t\tanmol=1\n",
            "\n",
            "Choose:-lakshita or akshita or radhika\n",
            "\n",
            "6:-anmol:-akshita\n",
            "COMPUTER:- radhika\n",
            "hahaha\t\t\t\n",
            "\t\t\tcomputer=3\n",
            "\t\t\tanmol=1\n",
            "\t\t\tGAME COMPLETED\n",
            "\n",
            "\t\t\tCOMPUTER WINS\n"
          ]
        }
      ]
    },
    {
      "cell_type": "code",
      "source": [
        "a='math'\n",
        "b='chem'\n",
        "c='phy'\n",
        "d='bio'\n",
        "e='MPW'\n",
        "f='civil'\n",
        "print(\"\\t\\t1\\t2\\t3\\t\\t\\t4\\t5\\t6\\n\\nMonday\\t\\t{}\\t{}\\t{}\\t\\t\\t{}\\t{}\\t{}\".format(a,b,c,d,e,f))\n",
        "print(\"\\n\\nTuesday\\t\\t{}\\t{}\\t{}\\t\\tL\\t{}\\t{}\\t{}\".format(b,a,d,e,f,c))\n",
        "print(\"\\n\\nWednesday\\t{}\\t{}\\t{}\\t\\tU\\t{}\\t{}\\t{}\".format(c,d,f,e,a,b))\n",
        "print(\"\\n\\nThursday\\t{}\\t{}\\t{}\\t\\tN\\t{}\\t{}\\t{}\".format(f,e,d,a,c,b))\n",
        "print(\"\\n\\nFriday\\t\\t{}\\t{}\\t{}\\t\\tC\\t{}\\t{}\\t{}\".format(d,e,f,a,b,c))\n",
        "print(\"\\n\\nSaturday\\t{}\\t{}\\t{}\\t\\tH\\t{}\\t{}\\t{}\".format(c,e,f,d,a,b))"
      ],
      "metadata": {
        "colab": {
          "base_uri": "https://localhost:8080/"
        },
        "id": "hUBDg-JJnwJM",
        "outputId": "bb5f4255-82ed-4656-c427-9a1a20524a6e"
      },
      "execution_count": null,
      "outputs": [
        {
          "output_type": "stream",
          "name": "stdout",
          "text": [
            "\t\t1\t2\t3\t\t\t4\t5\t6\n",
            "\n",
            "Monday\t\tmath\tchem\tphy\t\t\tbio\tMPW\tcivil\n",
            "\n",
            "\n",
            "Tuesday\t\tchem\tmath\tbio\t\tL\tMPW\tcivil\tphy\n",
            "\n",
            "\n",
            "Wednesday\tphy\tbio\tcivil\t\tU\tMPW\tmath\tchem\n",
            "\n",
            "\n",
            "Thursday\tcivil\tMPW\tbio\t\tN\tmath\tphy\tchem\n",
            "\n",
            "\n",
            "Friday\t\tbio\tMPW\tcivil\t\tC\tmath\tchem\tphy\n",
            "\n",
            "\n",
            "Saturday\tphy\tMPW\tcivil\t\tH\tbio\tmath\tchem\n"
          ]
        }
      ]
    },
    {
      "cell_type": "code",
      "source": [],
      "metadata": {
        "id": "4SD3aMiyRmeI"
      },
      "execution_count": null,
      "outputs": []
    }
  ]
}