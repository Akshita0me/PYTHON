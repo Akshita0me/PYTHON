{
  "nbformat": 4,
  "nbformat_minor": 0,
  "metadata": {
    "colab": {
      "provenance": [],
      "authorship_tag": "ABX9TyOnWSgwD+bJcFtxAwBg3E7j",
      "include_colab_link": true
    },
    "kernelspec": {
      "name": "python3",
      "display_name": "Python 3"
    },
    "language_info": {
      "name": "python"
    }
  },
  "cells": [
    {
      "cell_type": "markdown",
      "metadata": {
        "id": "view-in-github",
        "colab_type": "text"
      },
      "source": [
        "<a href=\"https://colab.research.google.com/github/Akshita0me/PYTHON/blob/main/PY_Training_ipy(7_8_JULY_).ipynb\" target=\"_parent\"><img src=\"https://colab.research.google.com/assets/colab-badge.svg\" alt=\"Open In Colab\"/></a>"
      ]
    },
    {
      "cell_type": "code",
      "execution_count": null,
      "metadata": {
        "colab": {
          "base_uri": "https://localhost:8080/"
        },
        "id": "-v287Aoe0qDi",
        "outputId": "bc0e0d84-375e-48d8-be14-02d60411d4e9"
      },
      "outputs": [
        {
          "output_type": "stream",
          "name": "stdout",
          "text": [
            "Enter a year: 2045\n",
            "2045 is not a leap year\n"
          ]
        }
      ],
      "source": [
        "#LEAP YEAR\n",
        "year= int(input(\"Enter a year: \"))\n",
        "if year % 4 == 0:\n",
        "    print(year, \"is a leap year\")\n",
        "else:\n",
        "    print(year, \"is not a leap year\")"
      ]
    },
    {
      "cell_type": "code",
      "source": [
        "#LEAP YEAR (WITH DIFFERENT METHOD)\n",
        "year= int(input(\"Enter a year: \"))\n",
        "if year %4 == 0 and year % 100 != 0 or year % 400 == 0:\n",
        "    print(year, \"is a leap year\")\n",
        "else:\n",
        "    print(year, \"is not a leap year\")"
      ],
      "metadata": {
        "colab": {
          "base_uri": "https://localhost:8080/"
        },
        "id": "F-TmcIli5SWu",
        "outputId": "ef21b951-0708-429a-aa1d-b2b5bdf2069c"
      },
      "execution_count": null,
      "outputs": [
        {
          "output_type": "stream",
          "name": "stdout",
          "text": [
            "Enter a year: 2064\n",
            "2064 is a leap year\n"
          ]
        }
      ]
    },
    {
      "cell_type": "code",
      "source": [
        "#LEAF YEAR ( %4 OR %400 )\n",
        "year = int(input(\"Enter a year: \"))\n",
        "if year % 4 == 0:\n",
        "    if year % 100 == 0:\n",
        "        if year % 400 == 0:\n",
        "            print(year, \"is a leap year\")\n",
        "        else:\n",
        "            print(year, \"is not a leap year\")\n",
        "    else:\n",
        "        print(year, \"is a leap year\")\n",
        "else:\n",
        "    print(year, \"is not a leap year\")"
      ],
      "metadata": {
        "colab": {
          "base_uri": "https://localhost:8080/"
        },
        "id": "lE4ZTQWm6Bz0",
        "outputId": "1663246c-ee42-4d96-fd9f-ea94d685e2e8"
      },
      "execution_count": null,
      "outputs": [
        {
          "output_type": "stream",
          "name": "stdout",
          "text": [
            "Enter a year: 2034\n",
            "2034 is not a leap year\n"
          ]
        }
      ]
    },
    {
      "cell_type": "code",
      "source": [
        "# USING RANGE ( START)\n",
        "for x in range(5): # RANGE START FROM 0 IF STOP IS NOT DEFINE\n",
        "  print(x)"
      ],
      "metadata": {
        "colab": {
          "base_uri": "https://localhost:8080/"
        },
        "id": "Rm9vwO599gdu",
        "outputId": "642d6f23-3929-43bc-8fb1-093c1117851d"
      },
      "execution_count": null,
      "outputs": [
        {
          "output_type": "stream",
          "name": "stdout",
          "text": [
            "0\n",
            "1\n",
            "2\n",
            "3\n",
            "4\n"
          ]
        }
      ]
    },
    {
      "cell_type": "code",
      "source": [
        "#RANGE USING (START, STOP)\n",
        "for x in range(5,10):\n",
        "    print(x)"
      ],
      "metadata": {
        "colab": {
          "base_uri": "https://localhost:8080/"
        },
        "id": "CwS8mea69zoA",
        "outputId": "c9beaf27-d952-447d-bd2f-d51b5c8b6f97"
      },
      "execution_count": null,
      "outputs": [
        {
          "output_type": "stream",
          "name": "stdout",
          "text": [
            "5\n",
            "6\n",
            "7\n",
            "8\n",
            "9\n"
          ]
        }
      ]
    },
    {
      "cell_type": "code",
      "source": [
        "# USING RANGE (START, STOP , STEP)\n",
        "for x in range(1,20,2):\n",
        "    print(x)"
      ],
      "metadata": {
        "colab": {
          "base_uri": "https://localhost:8080/"
        },
        "id": "sjPvKu8c9_cO",
        "outputId": "31732042-09a9-4127-b963-ecf85860fdbc"
      },
      "execution_count": null,
      "outputs": [
        {
          "output_type": "stream",
          "name": "stdout",
          "text": [
            "1\n",
            "3\n",
            "5\n",
            "7\n",
            "9\n",
            "11\n",
            "13\n",
            "15\n",
            "17\n",
            "19\n"
          ]
        }
      ]
    },
    {
      "cell_type": "code",
      "source": [
        "# SUM OF NATURAL NO. WITH FOR LOOP UPTO 100\n",
        "sum_of_natural_number = 0\n",
        "for x in range(1, 101):\n",
        "  sum_of_natural_number += x\n",
        "sum_of_natural_number"
      ],
      "metadata": {
        "id": "RfVvi6GpCsWD"
      },
      "execution_count": null,
      "outputs": []
    },
    {
      "cell_type": "code",
      "source": [
        "#SUM OF NATURAL NO.\n",
        "n= int(input(\"Enter your number\"))\n",
        "x=1\n",
        "sum_of_natural_number= 0\n",
        "for x in range(1, n+1):\n",
        "    sum_of_natural_number+=x\n",
        "print(sum_of_natural_number)"
      ],
      "metadata": {
        "colab": {
          "base_uri": "https://localhost:8080/"
        },
        "id": "6mw5m_ExDI4t",
        "outputId": "eb785740-0be8-4540-c19b-17162542ba3f"
      },
      "execution_count": null,
      "outputs": [
        {
          "output_type": "stream",
          "name": "stdout",
          "text": [
            "Enter your number3\n",
            "6\n"
          ]
        }
      ]
    },
    {
      "cell_type": "code",
      "source": [
        "# MULTIPLICATION TABLE USING ( FOR AND RANGE )\n",
        "n= int(input(\"Enter your number\"))\n",
        "for i in range(1,11):\n",
        "  result = n * i\n",
        "  print(n, \"*\", i, \"=\", result)\n",
        "print(\"multiplication of table\")\n"
      ],
      "metadata": {
        "colab": {
          "base_uri": "https://localhost:8080/"
        },
        "id": "oK3WnqohEhCj",
        "outputId": "dff31b3b-3f56-4c3b-f8b3-6f3de4ac7203"
      },
      "execution_count": null,
      "outputs": [
        {
          "output_type": "stream",
          "name": "stdout",
          "text": [
            "Enter your number7\n",
            "7 * 1 = 7\n",
            "7 * 2 = 14\n",
            "7 * 3 = 21\n",
            "7 * 4 = 28\n",
            "7 * 5 = 35\n",
            "7 * 6 = 42\n",
            "7 * 7 = 49\n",
            "7 * 8 = 56\n",
            "7 * 9 = 63\n",
            "7 * 10 = 70\n",
            "multiplication of table\n"
          ]
        }
      ]
    },
    {
      "cell_type": "code",
      "source": [
        "#USNING BREAK\n",
        "i = 1\n",
        "while i <= 3:\n",
        "    x = int(input(\"Enter an even number: \"))\n",
        "    if x % 2 == 0:\n",
        "        print(\"YOU WIN\")\n",
        "        break  # Exit the loop if an even number is entered\n",
        "    i += 1 # Increment the counter\n",
        "\n",
        "else: # This else belongs to the while loop, executed if the loop finishes without a break\n",
        "    print(\"you lose\")"
      ],
      "metadata": {
        "colab": {
          "base_uri": "https://localhost:8080/"
        },
        "id": "fYvKV4vyGZvx",
        "outputId": "727c6dae-1c88-4cf8-c1c0-a7d684318b91"
      },
      "execution_count": null,
      "outputs": [
        {
          "output_type": "stream",
          "name": "stdout",
          "text": [
            "Enter an even number: 2\n",
            "YOU WIN\n"
          ]
        }
      ]
    },
    {
      "cell_type": "code",
      "source": [
        "#USING CONTINE\n",
        "x = 1\n",
        "while x <= 24:\n",
        "    if x % 5 == 0:\n",
        "        x = x + 1\n",
        "        continue # Skip the rest of the loop body for this iteration and go to the next\n",
        "    print(x)\n",
        "    x = x + 1 # Increment x for the next iteration if not divisible by 5"
      ],
      "metadata": {
        "colab": {
          "base_uri": "https://localhost:8080/"
        },
        "id": "TIs_20mUIDvb",
        "outputId": "49585eb0-307f-4833-e19a-7d079e20f5c4"
      },
      "execution_count": null,
      "outputs": [
        {
          "output_type": "stream",
          "name": "stdout",
          "text": [
            "1\n",
            "2\n",
            "3\n",
            "4\n",
            "6\n",
            "7\n",
            "8\n",
            "9\n",
            "11\n",
            "12\n",
            "13\n",
            "14\n",
            "16\n",
            "17\n",
            "18\n",
            "19\n",
            "21\n",
            "22\n",
            "23\n",
            "24\n"
          ]
        }
      ]
    },
    {
      "cell_type": "code",
      "source": [
        "#GAME USING THE CONTINUE, BREAK , OR PASS\n",
        "print(\"Welcome to the castel come\")\n",
        "print(\"Enter the password\")\n",
        "\n",
        "while True:\n",
        "  code = int(input(\"Enter the secret code :\"))\n",
        "\n",
        "  if code <=0:\n",
        "    print(\"Invalid input, try again\")\n",
        "    continue\n",
        "\n",
        "  if code %3 ==0 and code %5 ==0:\n",
        "     print(\"Access granted , door is open for you\")\n",
        "     break\n",
        "\n",
        "  elif code %5 ==0:\n",
        "    print(\"You are close\")\n",
        "    print(\"HINT = code is divisible by 3.\")\n",
        "    pass\n",
        "\n",
        "  elif code %3 ==0:\n",
        "    print(\"You are close\")\n",
        "    print(\"HINT = code is divisible by 5.\")\n",
        "    pass\n",
        "  else:\n",
        "    print(\"ACCESS DEMIED\")"
      ],
      "metadata": {
        "colab": {
          "base_uri": "https://localhost:8080/"
        },
        "id": "luAtUaiMJHob",
        "outputId": "d7203dd1-263a-430e-f632-fb5392dd0752"
      },
      "execution_count": null,
      "outputs": [
        {
          "output_type": "stream",
          "name": "stdout",
          "text": [
            "Welcome to the castel come\n",
            "Enter the password\n",
            "Enter the secret code :20\n",
            "You are close\n",
            "HINT = code is divisible by 3.\n",
            "Enter the secret code :45\n",
            "Access granted , door is open for you\n"
          ]
        }
      ]
    },
    {
      "cell_type": "markdown",
      "source": [],
      "metadata": {
        "id": "Kxn_nABaAQef"
      }
    },
    {
      "cell_type": "code",
      "source": [
        "import random\n",
        "x= range(1,100)\n",
        "for i in x:\n",
        "    print(i)"
      ],
      "metadata": {
        "colab": {
          "base_uri": "https://localhost:8080/"
        },
        "id": "wwlQuwK0Ax1N",
        "outputId": "19a08f62-8194-4e0d-e239-f99e2ff2ac60"
      },
      "execution_count": null,
      "outputs": [
        {
          "output_type": "stream",
          "name": "stdout",
          "text": [
            "1\n",
            "2\n",
            "3\n",
            "4\n",
            "5\n",
            "6\n",
            "7\n",
            "8\n",
            "9\n",
            "10\n",
            "11\n",
            "12\n",
            "13\n",
            "14\n",
            "15\n",
            "16\n",
            "17\n",
            "18\n",
            "19\n",
            "20\n",
            "21\n",
            "22\n",
            "23\n",
            "24\n",
            "25\n",
            "26\n",
            "27\n",
            "28\n",
            "29\n",
            "30\n",
            "31\n",
            "32\n",
            "33\n",
            "34\n",
            "35\n",
            "36\n",
            "37\n",
            "38\n",
            "39\n",
            "40\n",
            "41\n",
            "42\n",
            "43\n",
            "44\n",
            "45\n",
            "46\n",
            "47\n",
            "48\n",
            "49\n",
            "50\n",
            "51\n",
            "52\n",
            "53\n",
            "54\n",
            "55\n",
            "56\n",
            "57\n",
            "58\n",
            "59\n",
            "60\n",
            "61\n",
            "62\n",
            "63\n",
            "64\n",
            "65\n",
            "66\n",
            "67\n",
            "68\n",
            "69\n",
            "70\n",
            "71\n",
            "72\n",
            "73\n",
            "74\n",
            "75\n",
            "76\n",
            "77\n",
            "78\n",
            "79\n",
            "80\n",
            "81\n",
            "82\n",
            "83\n",
            "84\n",
            "85\n",
            "86\n",
            "87\n",
            "88\n",
            "89\n",
            "90\n",
            "91\n",
            "92\n",
            "93\n",
            "94\n",
            "95\n",
            "96\n",
            "97\n",
            "98\n",
            "99\n"
          ]
        }
      ]
    },
    {
      "cell_type": "code",
      "metadata": {
        "colab": {
          "base_uri": "https://localhost:8080/"
        },
        "id": "024e418b",
        "outputId": "b2c0f74e-bc7d-4015-be17-5d1acc71f42b"
      },
      "source": [
        "#USE OF LIST APPENDND FOr ADDING DATA\n",
        "l=[]\n",
        "l.append(10)\n",
        "l.append(20)\n",
        "l.append(30)\n",
        "print(l[0] , l[1] , l[2])\n",
        "for x in l:\n",
        "  print(x)"
      ],
      "execution_count": null,
      "outputs": [
        {
          "output_type": "stream",
          "name": "stdout",
          "text": [
            "10 20 30\n",
            "10\n",
            "20\n",
            "30\n"
          ]
        }
      ]
    },
    {
      "cell_type": "code",
      "source": [
        "l2=[10,20]\n",
        "l2"
      ],
      "metadata": {
        "colab": {
          "base_uri": "https://localhost:8080/"
        },
        "id": "LMkuVWQeMcYo",
        "outputId": "88461328-cf0c-4f71-e144-cb99635a615e"
      },
      "execution_count": null,
      "outputs": [
        {
          "output_type": "execute_result",
          "data": {
            "text/plain": [
              "[10, 20]"
            ]
          },
          "metadata": {},
          "execution_count": 13
        }
      ]
    },
    {
      "cell_type": "code",
      "source": [
        "# USE OF INSERT DOR CHANGING THE DIGIT ON SECOND PLACE (2,30)\n",
        "a=[]\n",
        "a.append(10)\n",
        "a.append(20)\n",
        "a\n",
        "a.insert(2,30)\n",
        "a"
      ],
      "metadata": {
        "colab": {
          "base_uri": "https://localhost:8080/"
        },
        "id": "FYT_-u7BNJQJ",
        "outputId": "39e9f119-88fc-4b24-fac7-2d4075362084"
      },
      "execution_count": null,
      "outputs": [
        {
          "output_type": "execute_result",
          "data": {
            "text/plain": [
              "[10, 20, 30]"
            ]
          },
          "metadata": {},
          "execution_count": 15
        }
      ]
    },
    {
      "cell_type": "code",
      "source": [
        "#USE OF INSERT ( FOR ADDING THE VALUE IN TABLE)\n",
        "a=[]\n",
        "a.append(10)\n",
        "a.append(20)\n",
        "print(a)\n",
        "a.insert(2,30)\n",
        "print(a)\n",
        "a.insert(3,40) # Correcting the index for inserting 40\n",
        "print(a)\n",
        "a.insert(1,50)\n",
        "print(a)\n",
        "\n"
      ],
      "metadata": {
        "colab": {
          "base_uri": "https://localhost:8080/"
        },
        "id": "PocWfLPtNy3E",
        "outputId": "30a5b97c-24f7-474c-8047-556e4729105a"
      },
      "execution_count": null,
      "outputs": [
        {
          "output_type": "stream",
          "name": "stdout",
          "text": [
            "[10, 20]\n",
            "[10, 20, 30]\n",
            "[10, 20, 30, 40]\n",
            "[10, 50, 20, 30, 40]\n"
          ]
        }
      ]
    },
    {
      "cell_type": "code",
      "source": [
        "#MULTIPLE LIST OUTPUT\n",
        "A=[1,2,3]\n",
        "B=[4,5,6]\n",
        "C=A+B\n",
        "print (C)\n",
        "A+[10]"
      ],
      "metadata": {
        "colab": {
          "base_uri": "https://localhost:8080/"
        },
        "id": "tlPKNzHMPLMa",
        "outputId": "8a2b5ce8-b70e-4675-d86b-b80dc9879a45"
      },
      "execution_count": null,
      "outputs": [
        {
          "output_type": "stream",
          "name": "stdout",
          "text": [
            "[1, 2, 3, 4, 5, 6]\n"
          ]
        },
        {
          "output_type": "execute_result",
          "data": {
            "text/plain": [
              "[1, 2, 3, 10]"
            ]
          },
          "metadata": {},
          "execution_count": 25
        }
      ]
    },
    {
      "cell_type": "code",
      "source": [
        "#MULTIPLE LIST OUTPUT\n",
        "A=[1,2,3]\n",
        "B=[4,5,6]\n",
        "C=A+B\n",
        "print (C)\n",
        "A+[10] #\n",
        "print (A)"
      ],
      "metadata": {
        "colab": {
          "base_uri": "https://localhost:8080/"
        },
        "id": "vLHIzhkjR7j8",
        "outputId": "1ed6df5a-03a7-4c6f-dd23-961a143c35ac"
      },
      "execution_count": null,
      "outputs": [
        {
          "output_type": "stream",
          "name": "stdout",
          "text": [
            "[1, 2, 3, 4, 5, 6]\n",
            "[1, 2, 3]\n"
          ]
        }
      ]
    },
    {
      "cell_type": "code",
      "source": [
        "#OUTPUT OF USE OF * IN LIST\n",
        "D=[10,20]\n",
        "D*3\n",
        "print(D)\n",
        "D*=3 # IT REPEAT THE NUMBER 3 TIME AFTER USING =\n",
        "print(D)"
      ],
      "metadata": {
        "colab": {
          "base_uri": "https://localhost:8080/"
        },
        "id": "IjqOjIj2SB-A",
        "outputId": "4950d1ec-0541-4cf3-d216-9c9599646226"
      },
      "execution_count": null,
      "outputs": [
        {
          "output_type": "stream",
          "name": "stdout",
          "text": [
            "[10, 20]\n",
            "[10, 20, 10, 20, 10, 20]\n"
          ]
        }
      ]
    },
    {
      "cell_type": "code",
      "source": [
        "#HOW TO EDIT THE VALUE IN LIST\n",
        "Mylist = [10,20,30]\n",
        "Mylist[0]=100\n",
        "print(Mylist)"
      ],
      "metadata": {
        "colab": {
          "base_uri": "https://localhost:8080/"
        },
        "id": "Mg6msEAcS42D",
        "outputId": "a3bd96f8-93b1-4fc6-91d3-ece10bb6762e"
      },
      "execution_count": null,
      "outputs": [
        {
          "output_type": "stream",
          "name": "stdout",
          "text": [
            "[100, 20, 30]\n"
          ]
        }
      ]
    },
    {
      "cell_type": "code",
      "source": [
        "#HOW TO REMOVE THE VALUE IN LIST\n",
        "D= [10,20]\n",
        "D*=3\n",
        "print(D)\n",
        "D.remove(20)\n",
        "print(D)"
      ],
      "metadata": {
        "colab": {
          "base_uri": "https://localhost:8080/"
        },
        "id": "3t-JWGk2Tq6t",
        "outputId": "ec3eebf0-76a9-4dcc-e122-61be98008ea3"
      },
      "execution_count": null,
      "outputs": [
        {
          "output_type": "stream",
          "name": "stdout",
          "text": [
            "[10, 20, 10, 20, 10, 20]\n",
            "[10, 10, 20, 10, 20]\n"
          ]
        }
      ]
    },
    {
      "cell_type": "code",
      "source": [
        "#LIST FUNCTIONS:Sort()\n",
        "#Sort(): sort the value in list\n",
        "#CLEAR():CLEAR THE VALUE IN LIST\n",
        "#REVERSE():\n",
        "#POP():\n",
        "#POP Vs RETUN()\n"
      ],
      "metadata": {
        "id": "UDleA9h-Up9v"
      },
      "execution_count": null,
      "outputs": []
    },
    {
      "cell_type": "code",
      "source": [
        "mylist =[10,20,30,40]\n",
        "print(mylist)\n"
      ],
      "metadata": {
        "colab": {
          "base_uri": "https://localhost:8080/"
        },
        "id": "pKf6P4ZFWLj5",
        "outputId": "184a5bdf-2478-42f8-aca4-11dc11a01b64"
      },
      "execution_count": null,
      "outputs": [
        {
          "output_type": "stream",
          "name": "stdout",
          "text": [
            "[10, 20, 30, 40]\n"
          ]
        }
      ]
    },
    {
      "cell_type": "code",
      "source": [
        "#INDEX()\n",
        "A=[10,20,30,40,50]\n",
        "A.index(30)"
      ],
      "metadata": {
        "id": "4YN3IWmeWqDU"
      },
      "execution_count": null,
      "outputs": []
    },
    {
      "cell_type": "code",
      "source": [
        "A=[10,20,10,30,40,20,30,10]\n",
        "A.index(10)\n",
        "#A.index(10,1)\n",
        "#A.index(10,1,6)\n"
      ],
      "metadata": {
        "colab": {
          "base_uri": "https://localhost:8080/"
        },
        "id": "gMYTSMGgXI_G",
        "outputId": "26a7740b-2603-41c0-cd81-834eb33cb05f"
      },
      "execution_count": null,
      "outputs": [
        {
          "output_type": "execute_result",
          "data": {
            "text/plain": [
              "0"
            ]
          },
          "metadata": {},
          "execution_count": 45
        }
      ]
    }
  ]
}