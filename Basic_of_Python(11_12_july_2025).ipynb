{
  "nbformat": 4,
  "nbformat_minor": 0,
  "metadata": {
    "colab": {
      "provenance": [],
      "authorship_tag": "ABX9TyMQo1K7qZj9K8aQC1fOpoiv",
      "include_colab_link": true
    },
    "kernelspec": {
      "name": "python3",
      "display_name": "Python 3"
    },
    "language_info": {
      "name": "python"
    }
  },
  "cells": [
    {
      "cell_type": "markdown",
      "metadata": {
        "id": "view-in-github",
        "colab_type": "text"
      },
      "source": [
        "<a href=\"https://colab.research.google.com/github/Akshita0me/PYTHON/blob/main/Basic_of_Python(11_12_july_2025).ipynb\" target=\"_parent\"><img src=\"https://colab.research.google.com/assets/colab-badge.svg\" alt=\"Open In Colab\"/></a>"
      ]
    },
    {
      "cell_type": "code",
      "execution_count": null,
      "metadata": {
        "colab": {
          "base_uri": "https://localhost:8080/"
        },
        "id": "oAtDI44dv8pW",
        "outputId": "1c73fdec-7bc6-4e23-981b-f12e49f3622e"
      },
      "outputs": [
        {
          "output_type": "stream",
          "name": "stdout",
          "text": [
            "intersection using intersection function\n",
            "{3, 4}\n"
          ]
        }
      ],
      "source": [
        "#fuction of intersection\n",
        "set1 = set()\n",
        "set2 = set()\n",
        "\n",
        "for i in range(5):\n",
        "  set1.add(i)\n",
        "for i in range(3,5):\n",
        "  set2.add(i)\n",
        "set3 = set1.intersection(set2)\n",
        "print(\"intersection using intersection function\")\n",
        "print(set3)\n",
        "\n",
        "#\"&\" operation\n",
        "#set3 = set1 & set2\n",
        "#print(\"intersection using & function\")"
      ]
    },
    {
      "cell_type": "code",
      "source": [
        "#fuction of union (yeh data ko collet karke deta h)\n",
        "\n",
        "insan = {\"akshita\",\"radhika\",\"hardik\"}\n",
        "janwar = {\"lakshita\",\"anmol\",\"shamit\"}\n",
        "bicholiya = {\"bhavya\",\"dhruv\",\"khushi\"}\n",
        "population1 = insan.union(bicholiya)\n",
        "print(population1)\n",
        "population2 = insan.union(janwar)\n",
        "print(population2)"
      ],
      "metadata": {
        "colab": {
          "base_uri": "https://localhost:8080/"
        },
        "id": "y5UMCy-5wcYH",
        "outputId": "a994f8be-f9e4-4bc7-8f87-86824c6878a5"
      },
      "execution_count": null,
      "outputs": [
        {
          "output_type": "stream",
          "name": "stdout",
          "text": [
            "{'dhruv', 'radhika', 'bhavya', 'hardik', 'akshita', 'khushi'}\n",
            "{'radhika', 'hardik', 'shamit', 'akshita', 'anmol', 'lakshita'}\n"
          ]
        }
      ]
    },
    {
      "cell_type": "code",
      "source": [
        "#creating a set\n",
        "people = {\"Akshita\",\"Lakshita\",\"Radhika\"}\n",
        "print(\"People\", end = \" \")\n",
        "print(people)\n",
        "\n",
        "#this will add name into a program\n",
        "people.add(\"Anmol\")\n",
        "print(people)"
      ],
      "metadata": {
        "colab": {
          "base_uri": "https://localhost:8080/"
        },
        "id": "x3ogmJPbwtW3",
        "outputId": "445c31f4-e695-4b8d-b497-ef4789421783"
      },
      "execution_count": null,
      "outputs": [
        {
          "output_type": "stream",
          "name": "stdout",
          "text": [
            "People {'Lakshita', 'Akshita', 'Radhika'}\n",
            "{'Lakshita', 'Akshita', 'Radhika', 'Anmol'}\n"
          ]
        }
      ]
    },
    {
      "cell_type": "code",
      "source": [
        "#using function diffence\n",
        "s1 = {1,3,45,6,78}     #{1,45} is the subset of the set 1\n",
        "\n",
        "s2 = {7,8,1,78}\n",
        "\n",
        "s3 = {6,100,200,300,400}\n",
        "\n",
        "s4 = {600,700,800,900,300}\n",
        "\n",
        "diff1 = s1-s2\n",
        "diff2 = s4-s3\n",
        "print(diff1)\n",
        "print(diff2)"
      ],
      "metadata": {
        "colab": {
          "base_uri": "https://localhost:8080/"
        },
        "id": "xtD5s_1Kw9IE",
        "outputId": "4dc636ab-fda5-4557-ac05-b1aa231afd42"
      },
      "execution_count": null,
      "outputs": [
        {
          "output_type": "stream",
          "name": "stdout",
          "text": [
            "{3, 45, 6}\n",
            "{800, 900, 600, 700}\n"
          ]
        }
      ]
    },
    {
      "cell_type": "code",
      "source": [
        "#picnic bag ( usning list , tuple , set )\n",
        "\n",
        "#List – changeable\n",
        "picnic_list = [\"sandwich\", \"juice\", \"chips\", \"fruit\"]\n",
        "print(\"Picnic List:\", picnic_list)\n",
        "\n",
        "#Tuple – Fixed\n",
        "picnic_tuple = (\"cash money\", \"blanket\", \"sunscreen\")\n",
        "print(\"Picnic Tuple:\", picnic_tuple)\n",
        "print(\"Updated Picnic Tuple:\", picnic_tuple)\n",
        "# Set –unordered\n",
        "picnic_set = {\"tiger\", \"firework\", \"waterfall\", \"lion\"}\n",
        "print(\"Picnic Set:\", picnic_set)\n",
        "\n",
        "\n",
        "#Final summary\n",
        "print(\"\\n--- Picnic Bag Summary ---\")\n",
        "print(\"food item:\", picnic_list)\n",
        "print(\"important item:\", picnic_tuple)\n",
        "print(\"thing we saw (Set):\", picnic_set)"
      ],
      "metadata": {
        "colab": {
          "base_uri": "https://localhost:8080/"
        },
        "id": "TqhePI-dxz_p",
        "outputId": "e9c7118f-1f04-4c80-fad2-b21549cb2565"
      },
      "execution_count": null,
      "outputs": [
        {
          "output_type": "stream",
          "name": "stdout",
          "text": [
            "Picnic List: ['sandwich', 'juice', 'chips', 'fruit']\n",
            "Picnic Tuple: ('cash money', 'blanket', 'sunscreen')\n",
            "Picnic Set: {'waterfall', 'lion', 'tiger', 'firework'}\n",
            "\n",
            "--- Picnic Bag Summary ---\n",
            "food item: ['sandwich', 'juice', 'chips', 'fruit']\n",
            "important item: ('cash money', 'blanket', 'sunscreen')\n",
            "thing we saw (Set): {'waterfall', 'lion', 'tiger', 'firework'}\n"
          ]
        }
      ]
    },
    {
      "cell_type": "code",
      "source": [
        "#12 july\n",
        "#dictionary\n",
        "student = {\n",
        "    \"name\":\"akshita\",\n",
        "    \"age\":\"20\",\n",
        "    \"branch\":\"computer science\",\n",
        "    \"college\":\"anand internation college of enginnering\"\n",
        "}\n",
        "print(student)"
      ],
      "metadata": {
        "colab": {
          "base_uri": "https://localhost:8080/"
        },
        "id": "BGGN4Scrn9Dc",
        "outputId": "db2dce74-7bc4-46d7-a6ce-3356650854ce"
      },
      "execution_count": null,
      "outputs": [
        {
          "output_type": "stream",
          "name": "stdout",
          "text": [
            "{'name': 'akshita', 'age': '20', 'branch': 'computer science', 'college': 'anand internation college of enginnering'}\n"
          ]
        }
      ]
    },
    {
      "cell_type": "code",
      "source": [
        "#access a value\n",
        "print(student[\"name\"])\n",
        "student[\"college\"] = \"anand internation college of enginnering\"\n",
        "student[\"marks\"]= 95\n",
        "#del student[\"branch\"]\n",
        "if \"age\" in student:\n",
        "  print(\"age is\" , student[\"age\"])\n",
        "for key , value in student.items():\n",
        "  print(key, \":\" , value)"
      ],
      "metadata": {
        "colab": {
          "base_uri": "https://localhost:8080/"
        },
        "id": "OY3eG58yqcNY",
        "outputId": "bdf7f100-d730-4a03-9831-25bd3c3284c8"
      },
      "execution_count": null,
      "outputs": [
        {
          "output_type": "stream",
          "name": "stdout",
          "text": [
            "akshita\n",
            "age is 20\n",
            "name : akshita\n",
            "age : 20\n",
            "college : anand internation college of enginnering\n",
            "marks : 95\n"
          ]
        }
      ]
    },
    {
      "cell_type": "code",
      "source": [
        "cart = {\n",
        "    \"apple\":3,\n",
        "    \"banana\":2,\n",
        "    \"orange\":1\n",
        "}\n",
        "#add 1 more banana\n",
        "cart[\"banana\"] += 1\n",
        "#print updated cart\n",
        "for item , quantity in cart.items():\n",
        "  print(f\"{item}:{quantity}\")"
      ],
      "metadata": {
        "colab": {
          "base_uri": "https://localhost:8080/"
        },
        "id": "vgXh3UE8umPa",
        "outputId": "dfccbc39-a9d8-4fb2-db92-8bf1dd4c6dc3"
      },
      "execution_count": null,
      "outputs": [
        {
          "output_type": "stream",
          "name": "stdout",
          "text": [
            "apple:3\n",
            "banana:3\n",
            "orange:1\n"
          ]
        }
      ]
    },
    {
      "cell_type": "code",
      "source": [
        "#python functions\n",
        "def lakshita_pagal_ha():\n",
        "  print(\"lakshita_pagal_ha\")\n",
        "lakshita_pagal_ha()"
      ],
      "metadata": {
        "colab": {
          "base_uri": "https://localhost:8080/"
        },
        "id": "yA4DKz5yvp38",
        "outputId": "d49e8561-53a3-4275-a69a-4a2f42487a90"
      },
      "execution_count": null,
      "outputs": [
        {
          "output_type": "stream",
          "name": "stdout",
          "text": [
            "lakshita_pagal_ha\n"
          ]
        }
      ]
    },
    {
      "cell_type": "code",
      "source": [
        "#defining the function\n",
        "def func (name):\n",
        "  print(\"Hi\" , name)\n",
        "#calling a function\n",
        "func(\"Akshita\")"
      ],
      "metadata": {
        "colab": {
          "base_uri": "https://localhost:8080/"
        },
        "id": "UXBFgvEM0jeh",
        "outputId": "74f3614e-e24c-4239-a220-a9154eebfaee"
      },
      "execution_count": null,
      "outputs": [
        {
          "output_type": "stream",
          "name": "stdout",
          "text": [
            "Hi Akshita\n"
          ]
        }
      ]
    },
    {
      "cell_type": "code",
      "source": [
        "def sum (a,b):\n",
        "  return a+b;\n",
        "a = int(input(\"Enter a :\"))\n",
        "b = int(input(\"Enter b :\"))\n",
        "print(\"Sum = \" , sum(a,b))"
      ],
      "metadata": {
        "colab": {
          "base_uri": "https://localhost:8080/"
        },
        "id": "nQdX3TQ21Icj",
        "outputId": "ec729463-4509-4a3c-cfa1-10d2f2192a24"
      },
      "execution_count": null,
      "outputs": [
        {
          "output_type": "stream",
          "name": "stdout",
          "text": [
            "Enter a :34\n",
            "Enter b :98\n",
            "Sum =  132\n"
          ]
        }
      ]
    },
    {
      "cell_type": "code",
      "source": [
        "#the argument name is the requried\n",
        "def func(name):\n",
        "  message = \"Hi\" + name ;\n",
        "  return message;\n",
        "name = input(\"Enter your name :\")\n",
        "print(func(name))"
      ],
      "metadata": {
        "colab": {
          "base_uri": "https://localhost:8080/"
        },
        "id": "o2KKrZz62iQp",
        "outputId": "5e587bbc-78a1-46b2-e3c0-ab588d8f3137"
      },
      "execution_count": null,
      "outputs": [
        {
          "output_type": "stream",
          "name": "stdout",
          "text": [
            "Enter your name :akshita\n",
            "Hiakshita\n"
          ]
        }
      ]
    },
    {
      "cell_type": "code",
      "source": [
        "#the function simple_interest\n",
        "def simple_interest(p,t,r):\n",
        "  return(p*t*r)/100\n",
        "\n",
        "p = float(input(\"Enter the principal amount :\"))\n",
        "t = float(input(\"Enter the time period :\"))\n",
        "r = float(input(\"Enter the rate of interest :\"))\n",
        "\n",
        "interest = simple_interest(p, t, r)\n",
        "print(\"Simple Interest:\", interest)"
      ],
      "metadata": {
        "colab": {
          "base_uri": "https://localhost:8080/"
        },
        "id": "AfaodzW23J4y",
        "outputId": "a787ebd0-df07-4723-ce77-dc7b3948d6e1"
      },
      "execution_count": null,
      "outputs": [
        {
          "output_type": "stream",
          "name": "stdout",
          "text": [
            "Enter the principal amount :2333\n",
            "Enter the time period :2 \n",
            "Enter the rate of interest :30\n",
            "Simple Interest: 1399.8\n"
          ]
        }
      ]
    },
    {
      "cell_type": "code",
      "source": [
        "#function func id called with name and message\n",
        "def func(name,message):\n",
        "  print(\"printing the message with\", name, \"and\", message)\n",
        "\n",
        "#call the function after defining it\n",
        "func(name = \"akshita\", message = \"heyy\")"
      ],
      "metadata": {
        "colab": {
          "base_uri": "https://localhost:8080/"
        },
        "id": "aF9opDl34Ck5",
        "outputId": "ad96bda2-6e07-453c-e809-2588bfd5cda0"
      },
      "execution_count": null,
      "outputs": [
        {
          "output_type": "stream",
          "name": "stdout",
          "text": [
            "printing the message with akshita and heyy\n"
          ]
        }
      ]
    },
    {
      "cell_type": "code",
      "source": [
        "def simple_interest(p,t,r):\n",
        "  return(p*t*r)/100\n",
        "\n",
        "print(\"Simple Interest:\", simple_interest(t=11,r=33,p=2000))"
      ],
      "metadata": {
        "colab": {
          "base_uri": "https://localhost:8080/"
        },
        "id": "K2f7cBw25C-W",
        "outputId": "fdf12648-0a81-4127-a934-e03d7bab9ef2"
      },
      "execution_count": null,
      "outputs": [
        {
          "output_type": "stream",
          "name": "stdout",
          "text": [
            "Simple Interest: 7260.0\n"
          ]
        }
      ]
    },
    {
      "cell_type": "code",
      "source": [
        "def func(name1, message, name2):\n",
        "  print(\"Printing the message with\", name1, \",\", message, \"and\", name2)\n",
        "\n",
        "# Call the function after defining it\n",
        "func(name1 = \"akshita\", message=\"hello\", name2=\"lakshita\")"
      ],
      "metadata": {
        "colab": {
          "base_uri": "https://localhost:8080/"
        },
        "id": "J1pXmxMP6F3d",
        "outputId": "ed09a26b-8887-40dc-e827-b3ad8816a56a"
      },
      "execution_count": null,
      "outputs": [
        {
          "output_type": "stream",
          "name": "stdout",
          "text": [
            "Printing the message with akshita , hello and lakshita\n"
          ]
        }
      ]
    },
    {
      "cell_type": "code",
      "source": [
        "def printme(name,age=20):\n",
        "  print(\"My name is\", name, \"and age is\", age)\n",
        "printme(name = \"akshita\")"
      ],
      "metadata": {
        "colab": {
          "base_uri": "https://localhost:8080/"
        },
        "id": "-j9onvUO736J",
        "outputId": "d5275761-b279-4637-d4b4-d6cbedf9e262"
      },
      "execution_count": null,
      "outputs": [
        {
          "output_type": "stream",
          "name": "stdout",
          "text": [
            "My name is akshita and age is 20\n"
          ]
        }
      ]
    },
    {
      "cell_type": "code",
      "source": [
        "def printme(names):\n",
        "  print(\"type of passes argument is\",type(names))\n",
        "  print(\"printing the passes argument..\")\n",
        "  for name in names:\n",
        "    print(name)\n",
        "printme([\"akshita\",\"lakshita\",\"radhika\"])"
      ],
      "metadata": {
        "colab": {
          "base_uri": "https://localhost:8080/"
        },
        "id": "fGCmC_iU8Pm7",
        "outputId": "2a6020b2-bed4-442e-bd88-c212cc15bf29"
      },
      "execution_count": null,
      "outputs": [
        {
          "output_type": "stream",
          "name": "stdout",
          "text": [
            "type of passes argument is <class 'list'>\n",
            "printing the passes argument..\n",
            "akshita\n",
            "lakshita\n",
            "radhika\n"
          ]
        }
      ]
    },
    {
      "cell_type": "code",
      "source": [
        "def print_message();\n",
        "message ="
      ],
      "metadata": {
        "id": "2Q4pmW7t9AgG"
      },
      "execution_count": null,
      "outputs": []
    }
  ]
}