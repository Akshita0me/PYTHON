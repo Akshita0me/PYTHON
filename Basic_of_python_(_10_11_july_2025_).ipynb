{
  "cells": [
    {
      "cell_type": "markdown",
      "metadata": {
        "id": "view-in-github",
        "colab_type": "text"
      },
      "source": [
        "<a href=\"https://colab.research.google.com/github/Akshita0me/PYTHON/blob/main/Basic_of_python_(_10_11_july_2025_).ipynb\" target=\"_parent\"><img src=\"https://colab.research.google.com/assets/colab-badge.svg\" alt=\"Open In Colab\"/></a>"
      ]
    },
    {
      "cell_type": "code",
      "execution_count": 1,
      "metadata": {
        "colab": {
          "base_uri": "https://localhost:8080/"
        },
        "id": "kqn3L5bxSpfX",
        "outputId": "6391f0ea-2394-4cd1-aa90-728174e23394"
      },
      "outputs": [
        {
          "output_type": "execute_result",
          "data": {
            "text/plain": [
              "tuple"
            ]
          },
          "metadata": {},
          "execution_count": 1
        }
      ],
      "source": [
        "#Today topic is TUPLE (10 JULY)\n",
        "t = ()\n",
        "type(t)\n",
        "#other\n",
        "#t = (10)\n",
        "#type(10)"
      ]
    },
    {
      "cell_type": "code",
      "execution_count": 2,
      "metadata": {
        "colab": {
          "base_uri": "https://localhost:8080/"
        },
        "id": "RI2l2gFWYjWg",
        "outputId": "a27f69bc-8062-4186-f0e1-679ba8a814c9"
      },
      "outputs": [
        {
          "output_type": "execute_result",
          "data": {
            "text/plain": [
              "list"
            ]
          },
          "metadata": {},
          "execution_count": 2
        }
      ],
      "source": [
        "# we can convert the truple INTO LIST\n",
        "l = [11,22,33,44]\n",
        "t = tuple(l)\n",
        "type(l)"
      ]
    },
    {
      "cell_type": "code",
      "execution_count": 3,
      "metadata": {
        "colab": {
          "base_uri": "https://localhost:8080/"
        },
        "id": "WIA9RKMKZNKI",
        "outputId": "c90e3177-3415-4c47-e269-3d84c94ea4a2"
      },
      "outputs": [
        {
          "output_type": "stream",
          "name": "stdout",
          "text": [
            "(10, 20, 30, 40)\n",
            "(10, 20, 30, 40)\n",
            "(10, 20, 30, 40, 1, 2, 3, 4)\n",
            "(10, 20, 30, 40, 1, 2, 3, 4)\n"
          ]
        }
      ],
      "source": [
        "t = (10 , 20 , 30 , 40)\n",
        "print(t)\n",
        "print(t[0::]) # Corrected line to slice the tuple t\n",
        "t=t+(1,2,3,4)\n",
        "print(t)\n",
        "print(t[0::])# Corrected line to slice the tuple t"
      ]
    },
    {
      "cell_type": "code",
      "execution_count": 4,
      "metadata": {
        "colab": {
          "base_uri": "https://localhost:8080/"
        },
        "id": "s0ijW69OaFcP",
        "outputId": "1bd39a8e-fd31-4d3d-b8f4-401a91ef5329"
      },
      "outputs": [
        {
          "output_type": "stream",
          "name": "stdout",
          "text": [
            "10\n",
            "20\n",
            "30\n"
          ]
        },
        {
          "output_type": "execute_result",
          "data": {
            "text/plain": [
              "int"
            ]
          },
          "metadata": {},
          "execution_count": 4
        }
      ],
      "source": [
        "a = 1\n",
        "b = 2\n",
        "c = 3\n",
        "t = a,b,c\n",
        "t\n",
        "type(t)\n",
        "t = (10 , 20 , 30 )\n",
        "a,b, c = t\n",
        "print(a) # Corrected line to print the value of a\n",
        "print(b) # Corrected line to print the value of b\n",
        "print(c) # Corrected line to print the value of c\n",
        "type(a)"
      ]
    },
    {
      "cell_type": "code",
      "execution_count": 5,
      "metadata": {
        "colab": {
          "base_uri": "https://localhost:8080/"
        },
        "id": "-PzhxWCmaUIw",
        "outputId": "2e7c7d4e-99a9-406b-e6e0-3955600acb78"
      },
      "outputs": [
        {
          "output_type": "execute_result",
          "data": {
            "text/plain": [
              "True"
            ]
          },
          "metadata": {},
          "execution_count": 5
        }
      ],
      "source": [
        "a = 1 , 2 , 3\n",
        "b = 1 , 2 , 3\n",
        "a=b #isme yeh value assin kare ga b ki value ko a se)\n",
        "a==b #isme yeh value ko compare kre ga\n",
        "# other condition\n",
        "#c = 1 , 2 , 4\n",
        "#a==c\n",
        "#a<c\n",
        "#a>b\n",
        "#A = B (SYANTAX ERROR)"
      ]
    },
    {
      "cell_type": "code",
      "execution_count": 6,
      "metadata": {
        "colab": {
          "base_uri": "https://localhost:8080/"
        },
        "id": "i36y3C9gdrPm",
        "outputId": "36419e99-0ba7-4ee8-f5ff-ce0a6d277ccb"
      },
      "outputs": [
        {
          "name": "stdout",
          "output_type": "stream",
          "text": [
            "akshita\n"
          ]
        }
      ],
      "source": [
        "# USER INPUT for TUPLES\n",
        "tuple()\n",
        "n = input()"
      ]
    },
    {
      "cell_type": "code",
      "execution_count": 7,
      "metadata": {
        "colab": {
          "base_uri": "https://localhost:8080/"
        },
        "id": "98dze8i7eZER",
        "outputId": "16960b57-e1c1-439c-e3f4-7a83144b1fc1"
      },
      "outputs": [
        {
          "output_type": "stream",
          "name": "stdout",
          "text": [
            "Enter your name: akshita\n",
            "('a', 'k', 's', 'h', 'i', 't', 'a')\n"
          ]
        }
      ],
      "source": [
        "# input tuple m string li value dega // eval() in tuple\n",
        "a = tuple(input(\"Enter your name: \"))\n",
        "print(a)"
      ]
    },
    {
      "cell_type": "code",
      "source": [
        "#sum dega tuple k\n",
        "t = (10 , 20 , 30, 40 , 50, 60, 70, 80, 90, 20)\n",
        "sum(t)"
      ],
      "metadata": {
        "colab": {
          "base_uri": "https://localhost:8080/"
        },
        "id": "kj90tkVthmmr",
        "outputId": "4e991d8b-8955-4c4f-9139-fc3e0280688f"
      },
      "execution_count": 8,
      "outputs": [
        {
          "output_type": "execute_result",
          "data": {
            "text/plain": [
              "470"
            ]
          },
          "metadata": {},
          "execution_count": 8
        }
      ]
    },
    {
      "cell_type": "code",
      "source": [
        "#maximum value\n",
        "a = (101, 209 , 302 , 403 , 505 , 460 , 750 , 800 , 940 , 100)\n",
        "max(a)"
      ],
      "metadata": {
        "colab": {
          "base_uri": "https://localhost:8080/"
        },
        "id": "CE-heDC6iMNC",
        "outputId": "88f73370-93a6-4d2b-ea00-78fc4ebf453a"
      },
      "execution_count": 9,
      "outputs": [
        {
          "output_type": "execute_result",
          "data": {
            "text/plain": [
              "940"
            ]
          },
          "metadata": {},
          "execution_count": 9
        }
      ]
    },
    {
      "cell_type": "code",
      "source": [
        "#minimun value\n",
        "a = (101, 209 , 302 , 403 , 505 , 460 , 750 , 800 , 940 , 100)\n",
        "min(a)\n"
      ],
      "metadata": {
        "colab": {
          "base_uri": "https://localhost:8080/"
        },
        "id": "-pO-TLkQlOW7",
        "outputId": "e239a880-cf45-4456-cf84-0a6a55796140"
      },
      "execution_count": 10,
      "outputs": [
        {
          "output_type": "execute_result",
          "data": {
            "text/plain": [
              "100"
            ]
          },
          "metadata": {},
          "execution_count": 10
        }
      ]
    },
    {
      "cell_type": "code",
      "source": [
        "#lenght bta ta h tuple ki\n",
        "t = (1, 2, 3, 5, 6, 7,8,9,10)\n",
        "len(t)"
      ],
      "metadata": {
        "colab": {
          "base_uri": "https://localhost:8080/"
        },
        "id": "tEKx87QXlnQ_",
        "outputId": "820df27a-14f5-43b1-d044-ec7ef95edacc"
      },
      "execution_count": 11,
      "outputs": [
        {
          "output_type": "execute_result",
          "data": {
            "text/plain": [
              "9"
            ]
          },
          "metadata": {},
          "execution_count": 11
        }
      ]
    },
    {
      "cell_type": "code",
      "source": [
        "# donoko compare karke max value dega\n",
        "A = [100,500,1000,]\n",
        "B = [600,700,300]\n",
        "max(A+B)"
      ],
      "metadata": {
        "colab": {
          "base_uri": "https://localhost:8080/"
        },
        "id": "80-qa5hUl4BM",
        "outputId": "c69dc1da-8afa-43f2-c51e-87fc21a83d2e"
      },
      "execution_count": 12,
      "outputs": [
        {
          "output_type": "execute_result",
          "data": {
            "text/plain": [
              "1000"
            ]
          },
          "metadata": {},
          "execution_count": 12
        }
      ]
    },
    {
      "cell_type": "code",
      "source": [
        "#index position bta ta h\n",
        "a = (1,2,1,3,1,4,1,5,6,7)\n",
        "a.index(4)"
      ],
      "metadata": {
        "colab": {
          "base_uri": "https://localhost:8080/"
        },
        "id": "Ykz7E21Wl8Ud",
        "outputId": "97b15da0-f10a-4974-dc07-38b421fe5636"
      },
      "execution_count": 13,
      "outputs": [
        {
          "output_type": "execute_result",
          "data": {
            "text/plain": [
              "5"
            ]
          },
          "metadata": {},
          "execution_count": 13
        }
      ]
    },
    {
      "cell_type": "code",
      "source": [
        "#Today topic is SETS OF PYTHON(11 JULY)\n",
        "\n",
        "\n",
        "#python program to demonstrate difference\n",
        "normal_set = set({\"a\", \"b\", \"c\"})\n",
        "print(\"normal_set\")\n",
        "print(normal_set)"
      ],
      "metadata": {
        "colab": {
          "base_uri": "https://localhost:8080/"
        },
        "id": "GjPo3fYvd-k0",
        "outputId": "005516f4-c8fa-4037-ac7d-a6e058356959"
      },
      "execution_count": 14,
      "outputs": [
        {
          "output_type": "stream",
          "name": "stdout",
          "text": [
            "normal_set\n",
            "{'c', 'a', 'b'}\n"
          ]
        }
      ]
    },
    {
      "cell_type": "code",
      "source": [
        "#  A frozen set\n",
        "frozen_set = frozenset({\"e\", \"f\", \"g\"})\n",
        "print(\"frozen_set\")\n",
        "print(frozen_set)"
      ],
      "metadata": {
        "colab": {
          "base_uri": "https://localhost:8080/"
        },
        "id": "XPIw7kx2ltYG",
        "outputId": "7ee21a9d-7c73-4514-8d5d-b7c68b135f30"
      },
      "execution_count": 15,
      "outputs": [
        {
          "output_type": "stream",
          "name": "stdout",
          "text": [
            "frozen_set\n",
            "frozenset({'e', 'f', 'g'})\n"
          ]
        }
      ]
    },
    {
      "cell_type": "code",
      "source": [
        "#creating a set\n",
        "people = {\"Akshita\",\"Lakshita\",\"Radhika\"}\n",
        "print(\"People\", end = \" \")\n",
        "print(people)\n",
        "\n",
        "#this will add name into a program\n",
        "people.add(\"Anmol\")\n",
        "print(people)"
      ],
      "metadata": {
        "id": "xCa_fEcbnUiO",
        "colab": {
          "base_uri": "https://localhost:8080/"
        },
        "outputId": "cfdd4593-d6d5-4d2b-e4bb-e7c89fd9b6f6"
      },
      "execution_count": 16,
      "outputs": [
        {
          "output_type": "stream",
          "name": "stdout",
          "text": [
            "People {'Lakshita', 'Akshita', 'Radhika'}\n",
            "{'Anmol', 'Lakshita', 'Akshita', 'Radhika'}\n"
          ]
        }
      ]
    },
    {
      "cell_type": "code",
      "source": [
        "#fuction of union (yeh data ko collet karke deta h)\n",
        "\n",
        "insan = {\"akshita\",\"radhika\",\"hardik\"}\n",
        "janwar = {\"lakshita\",\"anmol\",\"shamit\"}\n",
        "bicholiya = {\"bhavya\",\"dhruv\",\"khushi\"}\n",
        "population1 = insan.union(bicholiya)\n",
        "print(population1)\n",
        "population2 = insan.union(janwar)\n",
        "print(population2)"
      ],
      "metadata": {
        "id": "5Tj7BE4zqRGE",
        "colab": {
          "base_uri": "https://localhost:8080/"
        },
        "outputId": "84c7bb80-0e18-4c6b-cf2e-43d37878db70"
      },
      "execution_count": 17,
      "outputs": [
        {
          "output_type": "stream",
          "name": "stdout",
          "text": [
            "{'bhavya', 'dhruv', 'akshita', 'hardik', 'radhika', 'khushi'}\n",
            "{'anmol', 'akshita', 'hardik', 'radhika', 'shamit', 'lakshita'}\n"
          ]
        }
      ]
    },
    {
      "cell_type": "code",
      "source": [
        "#fuction of intersection\n",
        "set1 = set()\n",
        "set2 = set()\n",
        "\n",
        "for i in range(5):\n",
        "  set1.add(i)\n",
        "for i in range(3,5):\n",
        "  set2.add(i)\n",
        "set3 = set1.intersection(set2)\n",
        "print(\"intersection using intersection function\")\n",
        "print(set3)\n",
        "\n",
        "#\"&\" operation\n",
        "#set3 = set1 & set2\n",
        "#print(\"intersection using & function\")"
      ],
      "metadata": {
        "id": "ri0OtpSGr7Qk",
        "colab": {
          "base_uri": "https://localhost:8080/"
        },
        "outputId": "f73b79d1-204d-481d-9ea1-6c57460912dd"
      },
      "execution_count": 18,
      "outputs": [
        {
          "output_type": "stream",
          "name": "stdout",
          "text": [
            "intersection using intersection function\n",
            "{3, 4}\n"
          ]
        }
      ]
    },
    {
      "cell_type": "code",
      "source": [
        "#picnic bag ( usning list , tuple , set )\n",
        "\n",
        "#List – changeable\n",
        "picnic_list = [\"sandwich\", \"juice\", \"chips\", \"fruit\"]\n",
        "print(\"Picnic List:\", picnic_list)\n",
        "\n",
        "#Tuple – Fixed\n",
        "picnic_tuple = (\"cash money\", \"blanket\", \"sunscreen\")\n",
        "print(\"Picnic Tuple:\", picnic_tuple)\n",
        "print(\"Updated Picnic Tuple:\", picnic_tuple)\n",
        "# Set –unordered\n",
        "picnic_set = {\"tiger\", \"firework\", \"waterfall\", \"lion\"}\n",
        "print(\"Picnic Set:\", picnic_set)\n",
        "\n",
        "\n",
        "#Final summary\n",
        "print(\"\\n--- Picnic Bag Summary ---\")\n",
        "print(\"food item:\", picnic_list)\n",
        "print(\"important item:\", picnic_tuple)\n",
        "print(\"thing we saw (Set):\", picnic_set)"
      ],
      "metadata": {
        "colab": {
          "base_uri": "https://localhost:8080/"
        },
        "id": "TqhePI-dxz_p",
        "outputId": "e9c7118f-1f04-4c80-fad2-b21549cb2565"
      },
      "execution_count": null,
      "outputs": [
        {
          "output_type": "stream",
          "name": "stdout",
          "text": [
            "Picnic List: ['sandwich', 'juice', 'chips', 'fruit']\n",
            "Picnic Tuple: ('cash money', 'blanket', 'sunscreen')\n",
            "Picnic Set: {'waterfall', 'lion', 'tiger', 'firework'}\n",
            "\n",
            "--- Picnic Bag Summary ---\n",
            "food item: ['sandwich', 'juice', 'chips', 'fruit']\n",
            "important item: ('cash money', 'blanket', 'sunscreen')\n",
            "thing we saw (Set): {'waterfall', 'lion', 'tiger', 'firework'}\n"
          ]
        }
      ]
    },
    {
      "cell_type": "code",
      "source": [
        "#using function diffence\n",
        "s1 = {1,3,45,6,78}     #{1,45} is the subset of the set 1\n",
        "\n",
        "s2 = {7,8,1,78}\n",
        "\n",
        "s3 = {6,100,200,300,400}\n",
        "\n",
        "s4 = {600,700,800,900,300}\n",
        "\n",
        "diff1 = s1-s2\n",
        "diff2 = s4-s3\n",
        "print(diff1)\n",
        "print(diff2)"
      ],
      "metadata": {
        "colab": {
          "base_uri": "https://localhost:8080/"
        },
        "id": "xtD5s_1Kw9IE",
        "outputId": "4dc636ab-fda5-4557-ac05-b1aa231afd42"
      },
      "execution_count": null,
      "outputs": [
        {
          "output_type": "stream",
          "name": "stdout",
          "text": [
            "{3, 45, 6}\n",
            "{800, 900, 600, 700}\n"
          ]
        }
      ]
    }
  ],
  "metadata": {
    "colab": {
      "provenance": [],
      "authorship_tag": "ABX9TyP0/tVwse4sW3sMg+sjqR4m",
      "include_colab_link": true
    },
    "kernelspec": {
      "display_name": "Python 3",
      "name": "python3"
    },
    "language_info": {
      "name": "python"
    }
  },
  "nbformat": 4,
  "nbformat_minor": 0
}